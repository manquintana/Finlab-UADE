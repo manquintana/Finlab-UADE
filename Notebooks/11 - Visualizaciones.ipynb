{
  "nbformat": 4,
  "nbformat_minor": 0,
  "metadata": {
    "colab": {
      "provenance": []
    },
    "kernelspec": {
      "name": "python3",
      "display_name": "Python 3"
    }
  },
  "cells": [
    {
      "cell_type": "markdown",
      "metadata": {
        "id": "WgCR77H_ny7C"
      },
      "source": [
        "# Visualizaciones\n",
        "\n",
        "Hacer visualizaciones informativas (plots) es una de las tareas más importantes en el análisis de datos. Puede ser parte del proceso exploratorio, por ejemplo, para ayudar a identificar valores atípicos o transformaciones de datos necesarias, o como una forma de generar ideas para modelos. \n",
        "\n",
        "Para otros, construir una visualización interactiva para la web puede ser el objetivo final. Python tiene muchas bibliotecas adicionales para hacer visualizaciones estáticas o dinámicas.\n",
        "\n",
        "<img src=\"https://i.huffpost.com/gen/1887945/thumbs/o-RABBIT-900.jpg?6\" width = 300 >\n"
      ]
    },
    {
      "cell_type": "markdown",
      "metadata": {
        "id": "sZin9SejoQcc"
      },
      "source": [
        "\n",
        "\n",
        "---\n",
        "\n",
        "\n",
        "## Matplotlib\n",
        "\n",
        "Matplotlib es un paquete de gráficos de escritorio diseñado para crear gráficos con calidad de publicación. \n",
        "Matplotlib admite varios backends de GUI en todos los sistemas operativos y, además, puede exportar visualizaciones a todos los formatos de gráficos vectoriales y raster (PDF, SVG, JPG, PNG, BMP, GIF, etc.)"
      ]
    },
    {
      "cell_type": "code",
      "metadata": {
        "id": "FD4RkCT8ntiq",
        "collapsed": true
      },
      "source": [
        "import matplotlib.pyplot as plt\n",
        "import numpy as np\n",
        "data = np.arange(10)\n",
        "data"
      ],
      "execution_count": null,
      "outputs": []
    },
    {
      "cell_type": "code",
      "metadata": {
        "id": "_bVfAHO9nyNV",
        "collapsed": true
      },
      "source": [
        "plt.plot(data)"
      ],
      "execution_count": null,
      "outputs": []
    },
    {
      "cell_type": "markdown",
      "metadata": {
        "id": "2urR-l14o5uX"
      },
      "source": [
        "Plots en matplotlib residen dentro de un objeto **Figure**. Puede crear una nueva figura con **plt.figure**"
      ]
    },
    {
      "cell_type": "code",
      "metadata": {
        "id": "LfFQS5iDpF5g",
        "collapsed": true
      },
      "source": [
        "fig = plt.figure() # Creamos el objeto"
      ],
      "execution_count": null,
      "outputs": []
    },
    {
      "cell_type": "markdown",
      "metadata": {
        "id": "14D7Nt3kpttQ"
      },
      "source": [
        "Definiremos una figura que tendrá hasta 4 subplots dentro (2 x 2).\n",
        "\n",
        "En la siguiente línea estamos seleccionando el primero de los 4 subplots."
      ]
    },
    {
      "cell_type": "code",
      "metadata": {
        "id": "upTm5bAxpakC"
      },
      "source": [
        "ax1 = fig.add_subplot(2, 2, 1)"
      ],
      "execution_count": null,
      "outputs": []
    },
    {
      "cell_type": "markdown",
      "metadata": {
        "id": "IVCV0WNYqoKS"
      },
      "source": [
        "Cuando emites un comando de plot como plt.plot, **matplotlib** dibuja en la última figura y sub-plot utilizado:"
      ]
    },
    {
      "cell_type": "code",
      "metadata": {
        "id": "i3iYLL4YpxuY",
        "collapsed": true
      },
      "source": [
        "fig = plt.figure()\n",
        "ax1 = fig.add_subplot(2, 2, 1) # 1° de los 4 subplots\n",
        "ax2 = fig.add_subplot(2, 2, 2) # 2° de los 4 subplots\n",
        "ax3 = fig.add_subplot(2, 2, 3) # 3° de los 4 subplots\n",
        "plt.plot(np.random.randn(50).cumsum(), 'k--') # El parametro 'k--' indica el estilo de la linea (línea punteada negra)"
      ],
      "execution_count": null,
      "outputs": []
    },
    {
      "cell_type": "markdown",
      "source": [
        "El código queda más bonito si definimos explícitamente sobre cual de los subplots queremos graficar:"
      ],
      "metadata": {
        "id": "ybR_gcX7r7rr"
      }
    },
    {
      "cell_type": "code",
      "metadata": {
        "id": "_FyCtprrrQ3G",
        "collapsed": true
      },
      "source": [
        "fig = plt.figure()\n",
        "ax1 = fig.add_subplot(2, 2, 1)\n",
        "ax2 = fig.add_subplot(2, 2, 2)\n",
        "ax3 = fig.add_subplot(2, 2, 3)\n",
        "\n",
        "ax1.hist(np.random.randn(100), bins=20, color='k', alpha=0.3)\n",
        "ax2.scatter(np.arange(30), np.arange(30) + 3 * np.random.randn(30))\n",
        "ax3.plot(np.random.randn(50).cumsum(), 'k*')"
      ],
      "execution_count": null,
      "outputs": []
    },
    {
      "cell_type": "markdown",
      "metadata": {
        "id": "Iz7ET1qPrVdb"
      },
      "source": [
        "### Ajuste del espacio entre los subplots\n",
        "\n",
        "De forma predeterminada, matplotlib deja una cierta cantidad de relleno alrededor del exterior de las subtramas y el espacio entre los subplots. Todo este espacio se especifica en relación con la altura y el ancho del gráfico, de modo que si cambia el tamaño del gráfico, este se ajustará dinámicamente.\n",
        "\n",
        "Puede cambiar el espaciado utilizando el método **subplots_adjust** en los objetos Figure, también disponible como una función de nivel superior\n",
        "\n",
        "```\n",
        "subplots_adjust(left=None, bottom=None, right=None, top=None,\n",
        "                wspace=None, hspace=None)\n",
        "```\n",
        "\n"
      ]
    },
    {
      "cell_type": "markdown",
      "metadata": {
        "id": "kEoCyh1Dr5_g"
      },
      "source": [
        "**wspace** y **hspace** controlan el porcentaje del ancho y el alto de la figura, respectivamente, para usar como espaciado entre sub-plots."
      ]
    },
    {
      "cell_type": "code",
      "metadata": {
        "id": "aCCB9tAir654",
        "collapsed": true
      },
      "source": [
        "fig, axes = plt.subplots(2, 2, sharex=True) #Con sharex=True grafica los ticks del eje X una sola vez para cada columna\n",
        "for i in range(2):\n",
        "    for j in range(2):\n",
        "        axes[i, j].hist(np.random.randn(500), bins=50, color='k', alpha=0.5)\n",
        "plt.subplots_adjust(wspace=1, hspace=0.2) \n",
        "# En este caso, el espaciado horizontal entre subplots es del 100% del tamaño del subplot\n",
        "# y el espaciado vertical es del 20% del tamaño del subplot"
      ],
      "execution_count": null,
      "outputs": []
    },
    {
      "cell_type": "markdown",
      "metadata": {
        "id": "YJ-Ix09Fsici"
      },
      "source": [
        "### Colores, marcadores y estilos de línea\n",
        "\n",
        "La función de plot principal de Matplotlib acepta matrices de coordenadas 'x' e 'y', y opcionalmente una abreviatura de cadena que indica color y estilo de línea. \n",
        "\n",
        "```\n",
        "ax.plot(x, y, 'g--')\n",
        "```\n",
        "Esta forma de especificar tanto el color como el estilo de línea en una cadena se proporciona como una conveniencia; en la práctica, si estas creando plots mediante programación, es posible que prefieras no tener que juntar cadenas para crear tramas con el estilo deseado. El mismo plot también podría haberse expresado más explícitamente como\n",
        "\n",
        "\n",
        "\n",
        "```\n",
        "ax.plot(x, y, linestyle='--', color='g')\n",
        "```\n",
        "\n",
        "Los gráficos de líneas también pueden tener marcadores para resaltar los puntos de datos reales. Dado que **matplotlib** crea una gráfica de línea continua, interpolando entre puntos, ocasionalmente puede no estar claro dónde se encuentran los puntos.\n",
        "\n"
      ]
    },
    {
      "cell_type": "code",
      "metadata": {
        "id": "flly9mOZtSPw",
        "collapsed": true
      },
      "source": [
        "from numpy.random import randn\n",
        "plt.plot(randn(30).cumsum(), 'bo--') # Agregamos: color \"blue\", marcador \"o\" (circulo) y linea \"dashed\" (--)"
      ],
      "execution_count": null,
      "outputs": []
    },
    {
      "cell_type": "code",
      "metadata": {
        "id": "LZInWo_7tawV",
        "collapsed": true
      },
      "source": [
        "#Lo mismo pero definido explicitamente:\n",
        "plt.plot(randn(30).cumsum(), color='blue', linestyle='dashed', marker='o')"
      ],
      "execution_count": null,
      "outputs": []
    },
    {
      "cell_type": "code",
      "metadata": {
        "id": "gQBBj1Tstj8V",
        "collapsed": true
      },
      "source": [
        "'''\n",
        "Line plot with different drawstyle options\n",
        "'''\n",
        "data = np.random.randn(30).cumsum()\n",
        "plt.plot(data, 'k--', label='Default')\n",
        "plt.plot(data, 'k-', drawstyle='steps-post', label='steps-post')\n",
        "plt.legend(loc='best')"
      ],
      "execution_count": null,
      "outputs": []
    },
    {
      "cell_type": "markdown",
      "metadata": {
        "id": "mck8dcxFucf1"
      },
      "source": [
        "### Ticks, Labels, y Legends\n",
        "\n",
        "Para la mayoría de los tipos de decoraciones de plots, hay dos formas principales de hacer las cosas: usar la interfaz de procedimientos **pyplot** o la API nativa de matplotlib más orientada a objetos.\n",
        "\n",
        "La interfaz **pyplot**, diseñada para uso interactivo, consta de métodos como **xlim**, **xticks** y **xticklabels**. Estos controlan el rango de trazado, las ubicaciones de las marcas y las etiquetas de las marcas, respectivamente. Se pueden usar de dos maneras."
      ]
    },
    {
      "cell_type": "code",
      "metadata": {
        "id": "6yt1mEbtvJAo",
        "collapsed": true
      },
      "source": [
        "fig = plt.figure()\n",
        "ax = fig.add_subplot(1, 1, 1)\n",
        "ax.plot(np.random.randn(1000).cumsum())"
      ],
      "execution_count": null,
      "outputs": []
    },
    {
      "cell_type": "markdown",
      "metadata": {
        "id": "N6K9kTvUvYQC"
      },
      "source": [
        "Para cambiar los ticks del eje x, es más fácil usar **set_xticks** y **set_xticklabels**. El primero le indica a matplotlib dónde colocar los ticks a lo largo del rango de datos; Por defecto, estas ubicaciones también serán las etiquetas. Pero podemos establecer cualquier otro valor como las etiquetas usando **set_xticklabels**"
      ]
    },
    {
      "cell_type": "code",
      "metadata": {
        "id": "OfVt0fApvjQS",
        "collapsed": true
      },
      "source": [
        "fig = plt.figure()\n",
        "ax = fig.add_subplot(1, 1, 1)\n",
        "\n",
        "ticks = ax.set_xticks([0, 250, 500, 750, 1000]) # Setea los ticks en estos valores\n",
        "labels = ax.set_xticklabels(['one', 'two', 'three', 'four', 'five'], # Y cambia el valor por la etiqueta o leyenda\n",
        "              rotation=30, fontsize='small')\n",
        "ax.set_title('Gráfico con Etiquetas en eje X')\n",
        "ax.set_xlabel('Stages')\n",
        "ax.plot(np.random.randn(1000).cumsum())"
      ],
      "execution_count": null,
      "outputs": []
    },
    {
      "cell_type": "markdown",
      "metadata": {
        "id": "OyrR8S1Awf6r"
      },
      "source": [
        "### Leyendas\n",
        "\n",
        "Las leyendas son otro elemento crítico para identificar elementos de la trama. \n",
        "\n",
        "Lo más fácil es pasar el argumento de la etiqueta al agregar cada pieza de la trama:\n"
      ]
    },
    {
      "cell_type": "code",
      "metadata": {
        "id": "_OqDRe1av12V",
        "collapsed": true
      },
      "source": [
        "from numpy.random import randn\n",
        "fig = plt.figure()\n",
        "ax = fig.add_subplot(1, 1, 1)\n",
        "# En este caso en un plot de 1x1 haremos 3 graficos, identificados por la leyenda de cada uno\n",
        "ax.plot(randn(1000).cumsum(), 'b', label='one')\n",
        "ax.plot(randn(1000).cumsum(), 'g--', label='two')\n",
        "ax.plot(randn(1000).cumsum(), 'k.', label='three')\n",
        "ax.legend(loc='best') # Indicamos en qué posicion aparecerá el cuadrito con las leyendas\n",
        "# con loc=\"best\" busca el borde que tenga mas espacio en blanco y lo posiciona ahí"
      ],
      "execution_count": null,
      "outputs": []
    },
    {
      "cell_type": "markdown",
      "metadata": {
        "id": "bQ6YL2ZLw5JM"
      },
      "source": [
        "### Anotaciones en un subplot\n",
        "\n",
        "Además de los tipos de plots estándar, es posible que desees dibujar tus propias anotaciones de trazado, que pueden consistir en texto, flechas u otras formas. \n",
        "\n",
        "**text** dibuja texto en las coordenadas dadas (x, y) en el gráfico con un estilo personalizado opcional"
      ]
    },
    {
      "cell_type": "markdown",
      "metadata": {
        "id": "oGurNSuDxK1r"
      },
      "source": [
        "Las anotaciones pueden dibujar tanto el texto como las flechas organizadas adecuadamente. Como ejemplo, tracemos el precio de cierre del índice S&P 500 desde 2007 y anotémoslo con algunas de las fechas importantes de la crisis financiera de 2008-2009."
      ]
    },
    {
      "cell_type": "code",
      "metadata": {
        "id": "FWbbc5Tqv7Tq",
        "collapsed": true
      },
      "source": [
        "import pandas as pd\n",
        "from datetime import datetime\n",
        "\n",
        "fig = plt.figure()\n",
        "ax = fig.add_subplot(1, 1, 1)\n",
        "\n",
        "data = pd.read_csv('https://raw.githubusercontent.com/manquintana/Finlab-UADE/main/Ejercitacion/Datasets/spx.csv', index_col=0, parse_dates=True)\n",
        "spx = data['SPX']\n",
        "\n",
        "ax.plot(spx, 'k-')"
      ],
      "execution_count": null,
      "outputs": []
    },
    {
      "cell_type": "code",
      "source": [
        "import pandas as pd\n",
        "from datetime import datetime\n",
        "\n",
        "fig = plt.figure()\n",
        "ax = fig.add_subplot(1, 1, 1)\n",
        "spx.plot(ax=ax, style='k-') # Plotearemos el mismo dataframe de arriba\n",
        "# En este caso a diferencia de antes, estamos ploteando directamente sobre el objeto \"array\" pasando\n",
        "# como parámetro el subplot en el que lo queremos graficar. \n",
        "# Obs: Por defecto, al hacer esto se aplica una rotación de 45° en los labels de xticks.\n",
        "# Esto no pasa si se plotea sobre matplotlib o sobre la figura de matplotlib.\n",
        "\n",
        "ax.set_xlim(['1/1/2007', '1/1/2010']) # \"Zoom\" en periodo 2007-2009\n",
        "ax.set_ylim([600, 1800])"
      ],
      "metadata": {
        "id": "tujSlav2B68R"
      },
      "execution_count": null,
      "outputs": []
    },
    {
      "cell_type": "code",
      "metadata": {
        "id": "Ybc1Di1heImy",
        "collapsed": true
      },
      "source": [
        "import pandas as pd\n",
        "from datetime import datetime\n",
        "\n",
        "fig = plt.figure()\n",
        "ax = fig.add_subplot(1, 1, 1)\n",
        "spx.plot(ax=ax, style='k-')\n",
        "\n",
        "crisis_data = [\n",
        "    (datetime(2007, 10, 11), 'Pico de bull market'),\n",
        "    (datetime(2008, 3, 12), 'Caída de Bear Stearns'),\n",
        "    (datetime(2008, 9, 15), 'Lehman Bancarrota')\n",
        "]\n",
        "\n",
        "for date, label in crisis_data:\n",
        "    ax.annotate(label, \n",
        "                xy=(date, spx.asof(date) + 70), # Offset desde la flecha hasta el grafico\n",
        "                xytext=(date, spx.asof(date) + 200), # Offset desde el final de la flecha hasta el texto\n",
        "                arrowprops=dict(facecolor='red', headwidth=4, width=1,\n",
        "                                headlength=4),\n",
        "                horizontalalignment='left', verticalalignment='top', # Orientacion del texto\n",
        "                )\n",
        "\n",
        "ax.set_xlim(['1/1/2007', '1/1/2010']) # \"Zoom\" en periodo 2007-2009\n",
        "ax.set_ylim([600, 1800])\n",
        "\n",
        "ax.set_title('Fechas importantes en 2008-2009 durante crisis financiera')"
      ],
      "execution_count": null,
      "outputs": []
    },
    {
      "cell_type": "markdown",
      "metadata": {
        "id": "KgeVbTxeQKAH"
      },
      "source": [
        "Hay un par de puntos importantes para resaltar en este gráfico: el método **ax.annotate** puede dibujar etiquetas en las coordenadas x e y indicadas.\n",
        "\n",
        "Utilizamos los métodos **set_xlim** y **set_ylim** para establecer manualmente los límites de inicio y finalización del plot en lugar de utilizar el valor predeterminado de matplotlib. \n",
        "\n",
        "Por último, **ax.set_title** agrega un título principal al plot."
      ]
    },
    {
      "cell_type": "markdown",
      "source": [
        "\n",
        "\n",
        "---\n",
        "\n",
        "\n",
        "\n",
        "### Visualización en matplotlib de un DataFrame con índices jerárquicos"
      ],
      "metadata": {
        "id": "kPcG0FWBZd3z"
      }
    },
    {
      "cell_type": "markdown",
      "source": [
        "Volvamos al Dataframe multi-índice que hemos trabajado anteriormente"
      ],
      "metadata": {
        "id": "SrdPYxJ1Whqo"
      }
    },
    {
      "cell_type": "code",
      "execution_count": null,
      "metadata": {
        "id": "M_cYoclAW4BO",
        "collapsed": true
      },
      "outputs": [],
      "source": [
        "import pandas as pd\n",
        "import numpy as np\n",
        "\n",
        "data = pd.DataFrame(np.arange(6).reshape((2, 3)), \n",
        "                    index=pd.Index(['Ohio', 'Colorado'], name='Estado'),\n",
        "                    columns=pd.Index(['Uno', 'Dos', 'Tres'], name='Número'))\n",
        "resultado = data.stack() #Transformo en serie para luego agregar como columna\n",
        "df = pd.DataFrame({'left': resultado, 'right': resultado + 5},\n",
        "                  columns=pd.Index(['left', 'right'], name='Lado'))\n",
        "df = df.unstack('Estado').stack('Lado')  #Paso \"Estado\" a columnas y \"Lado\" como subindice\n",
        "df"
      ]
    },
    {
      "cell_type": "code",
      "source": [
        "import matplotlib.pyplot as plt"
      ],
      "metadata": {
        "id": "3AyUdmS7cYwB"
      },
      "execution_count": null,
      "outputs": []
    },
    {
      "cell_type": "markdown",
      "source": [
        "1. **Primer propuesta para gráfico**:\n",
        "\n",
        "Hacer uso del método unstack (Hará la desagregación del dataframe al nivel del índice que se le pase, o bien del nombre del índice que se le pase)\n",
        "\n",
        "Si hacemos .unstack(level = 0) entonces el índice Padre pasa a las columnas, luego matplotlib utilizará el índice que queda (\"Lado\") como \"label\" para el eje x y sus dos subíndices (left y right) como xticks."
      ],
      "metadata": {
        "id": "GTqL-K7Qbi4I"
      }
    },
    {
      "cell_type": "code",
      "source": [
        "ax = df.unstack(level='Número') # Es equivalente a hacer df.unstack(level=0)\n",
        "ax.plot(kind='bar', rot=45)"
      ],
      "metadata": {
        "id": "wdPowGIOcWrq",
        "collapsed": true
      },
      "execution_count": null,
      "outputs": []
    },
    {
      "cell_type": "markdown",
      "source": [
        "2. **Segunda propuesta para gráfico**:\n",
        "\n",
        "Si hacemos a nivel \"Lado\" entonces el índice Hijo pasa a las columnas, luego matplotlib utilizará el índice que queda (\"Numero\") como \"label\" para el eje x y sus tres subíndices (Uno, Dos, Tres) como xticks."
      ],
      "metadata": {
        "id": "PdreCRg8dAAr"
      }
    },
    {
      "cell_type": "code",
      "source": [
        "ax = df.unstack(level='Lado') # Es equivalente a hacer df.unstack(level=1)\n",
        "ax.plot(kind='bar')"
      ],
      "metadata": {
        "id": "dc_6G6mGc_mH",
        "collapsed": true
      },
      "execution_count": null,
      "outputs": []
    },
    {
      "cell_type": "markdown",
      "source": [
        "3. **Tercer propuesta para gráfico**:\n",
        "\n",
        "Sobre cualquiera de las dos opciones anteriores, agregarle subplots para graficar varios gráficos a la vez. Por ejemplo, sobre el unstack de \"Lado\".\n",
        "\n",
        "Voy a dejar de lado el tema estético para dejar el código lo más sencillo posible. Faltaría embellecer el gráfico, separar los subplots en el eje vertical y etiquetar cada subplot para obtener un gráfico amigable a la vista."
      ],
      "metadata": {
        "id": "9SQZtFYQh5xL"
      }
    },
    {
      "cell_type": "code",
      "source": [
        "ax = df.unstack(level='Lado') \n",
        "ax.plot(kind='bar', subplots = True) #Con subplot = True automáticamente agregará los subplots correspondientes"
      ],
      "metadata": {
        "id": "k6bP03Oxh4-8",
        "collapsed": true
      },
      "execution_count": null,
      "outputs": []
    },
    {
      "cell_type": "markdown",
      "source": [
        "4. **Cuarta propuesta para gráfico**:\n",
        "\n",
        "Hacer uso de los subplots \"a mano\", y crear un gráfico con múltiples subplots, creando uno por uno controladamente:"
      ],
      "metadata": {
        "id": "4gipq0CxdenJ"
      }
    },
    {
      "cell_type": "code",
      "source": [
        "df"
      ],
      "metadata": {
        "id": "x4VkxSM4Gjhi"
      },
      "execution_count": null,
      "outputs": []
    },
    {
      "cell_type": "code",
      "source": [
        "# Acá pruebo la selección que hago para cada subplot\n",
        "df.loc['Uno']['Colorado']"
      ],
      "metadata": {
        "id": "9ItJFNQEl9XO",
        "collapsed": true
      },
      "execution_count": null,
      "outputs": []
    },
    {
      "cell_type": "code",
      "source": [
        "fig = plt.figure()\n",
        "ax1 = fig.add_subplot(3, 2, 1) # 1° de los 6 subplots\n",
        "ax2 = fig.add_subplot(3, 2, 2) # 2° de los 6 subplots\n",
        "ax3 = fig.add_subplot(3, 2, 3) # 3° de los 6 subplots\n",
        "ax4 = fig.add_subplot(3, 2, 4) # 4° de los 6 subplots\n",
        "ax5 = fig.add_subplot(3, 2, 5) # 5° de los 6 subplots\n",
        "ax6 = fig.add_subplot(3, 2, 6) # 6° de los 6 subplots\n",
        "\n",
        "width_var = 0.2\n",
        "\n",
        "# Quiero que en el primer  y segundo subplot aparezca lo correspondiente a Número \"Uno\" para Colorado y Ohio\n",
        "data_uno = df.loc['Uno']['Colorado'] # Es equivalente a hacer df.unstack(level=1)\n",
        "ax1.bar(x = data_uno.index, height = data_uno, color='b', alpha=1, width=width_var) # Haré barras con: Indice (left, right) como eje x, valores como eje y\n",
        "ax1.set_title('Número 1: Colorado')\n",
        "\n",
        "data_dos = df.loc['Uno']['Ohio'] # Es equivalente a hacer df.unstack(level=1)\n",
        "ax2.bar(x = data_dos.index, height = data_dos, color='b', alpha=0.5, width=width_var) # Haré barras con: Indice (left, right) como eje x, valores como eje y\n",
        "ax2.set_title('Número 1: Ohio')\n",
        "\n",
        "\n",
        "# Tercer y cuarto subplot aparece lo correspondiente a Número \"Dos\"\n",
        "data_tres = df.loc['Dos']['Colorado'] # Es equivalente a hacer df.unstack(level=1)\n",
        "ax3.bar(x = data_tres.index, height = data_tres, color='b', alpha=1, width=width_var) # Haré barras con: Indice (left, right) como eje x, valores como eje y\n",
        "ax3.set_title('Número 2: Colorado')\n",
        "\n",
        "data_cuatro = df.loc['Dos']['Ohio'] # Es equivalente a hacer df.unstack(level=1)\n",
        "ax4.bar(x = data_cuatro.index, height = data_cuatro, color='b', alpha=0.5, width=width_var) # Haré barras con: Indice (left, right) como eje x, valores como eje y\n",
        "ax4.set_title('Número 2: Ohio')\n",
        "\n",
        "\n",
        "# Quinto y sexto subplot aparece lo correspondiente a Número \"Tres\"\n",
        "data_cinco = df.loc['Tres']['Colorado'] # Es equivalente a hacer df.unstack(level=1)\n",
        "ax5.bar(x = data_cinco.index, height = data_cinco, color='b', alpha=1, width=width_var) # Haré barras con: Indice (left, right) como eje x, valores como eje y\n",
        "ax5.set_title('Número 3: Colorado')\n",
        "\n",
        "data_cinco = df.loc['Tres']['Ohio'] # Es equivalente a hacer df.unstack(level=1)\n",
        "ax6.bar(x = data_cinco.index, height = data_cinco, color='b', alpha=0.5, width=width_var) # Haré barras con: Indice (left, right) como eje x, valores como eje y\n",
        "ax6.set_title('Número 3: Ohio')\n",
        "\n",
        "\n",
        "fig.set_size_inches(7, 6)\n",
        "plt.subplots_adjust(wspace=0.2, hspace=1)"
      ],
      "metadata": {
        "id": "iOVNtTZgd7fg",
        "collapsed": true
      },
      "execution_count": null,
      "outputs": []
    },
    {
      "cell_type": "markdown",
      "metadata": {
        "id": "GT-kmDZhQguR"
      },
      "source": [
        "\n",
        "\n",
        "---\n",
        "\n",
        "\n",
        "### Formas y figuras\n",
        "\n",
        "Matplotlib tiene objetos que representan muchas formas comunes, conocidas como parches. Algunos de estos, como Rectángulo y Círculo, se encuentran en **matplotlib.pyplot**, pero el conjunto completo se encuentra en **matplotlib.patches**.\n",
        "\n",
        "Para agregar una forma a una gráfica, cree el objeto nombre_parche y agréguelo a un sub-plot llamando a **ax.add_patch(nombre_parche)**\n"
      ]
    },
    {
      "cell_type": "code",
      "metadata": {
        "id": "SK-bj2KxQ2dR",
        "collapsed": true
      },
      "source": [
        "fig = plt.figure()\n",
        "ax = fig.add_subplot(1, 1, 1)\n",
        "\n",
        "rect = plt.Rectangle((0.2, 0.75), 0.4, 0.15, color='k', alpha=0.5)\n",
        "circ = plt.Circle((0.7, 0.2), 0.15, color='b', alpha=0.3)\n",
        "pgon = plt.Polygon([[0.15, 0.15], [0.35, 0.4], [0.2, 0.6]],\n",
        "                   color='g', alpha=1)\n",
        "\n",
        "ax.add_patch(rect)\n",
        "ax.add_patch(circ)\n",
        "ax.add_patch(pgon)\n"
      ],
      "execution_count": null,
      "outputs": []
    },
    {
      "cell_type": "markdown",
      "metadata": {
        "id": "XD-7CLcvRklf"
      },
      "source": [
        "### Guardando Plots\n",
        "\n",
        "Puedes guardar la figura activa en el archivo usando **plt.savefig**. \n",
        "\n",
        "Por ejemplo, para guardar una versión SVG de una figura, solo necesitas escribir\n",
        "\n"
      ]
    },
    {
      "cell_type": "code",
      "source": [
        "fig.savefig('./sample_data/figpathtest.svg')"
      ],
      "metadata": {
        "id": "Jq5z2lFlzQN6"
      },
      "execution_count": null,
      "outputs": []
    },
    {
      "cell_type": "markdown",
      "metadata": {
        "id": "Ogh7tbLBSATi"
      },
      "source": [
        "## Plotting con Pandas y Seaborn\n",
        "\n",
        "Podemos considerar matplotlib como una herramienta de entrada para diagramar plots. Puedes ensamblar un gráfico a partir de sus componentes base: la visualización de datos, leyenda, título, etiquetas de marca y otras anotaciones.\n",
        "\n",
        "En pandas podemos tener múltiples columnas de datos, junto con etiquetas de fila y columna. Pandas tiene métodos incorporados que simplifican la creación de visualizaciones a partir de objetos DataFrame y Series. \n",
        "Una librería ampliamente utilizada  es seaborn. Seaborn es una librería de gráficos estadísticos que simplifica la creación de muchos tipos de visualización comunes."
      ]
    },
    {
      "cell_type": "code",
      "metadata": {
        "id": "kRbBu1zQSl2b",
        "collapsed": true
      },
      "source": [
        "import pandas as pd \n",
        "s = pd.Series(np.random.randn(10).cumsum(), index=np.arange(0, 100, 10))\n",
        "s.plot()"
      ],
      "execution_count": null,
      "outputs": []
    },
    {
      "cell_type": "code",
      "metadata": {
        "id": "nCsSm6GPS8rD",
        "collapsed": true
      },
      "source": [
        "df = pd.DataFrame(np.random.randn(10, 4).cumsum(0),\n",
        "                  columns=['A', 'B', 'C', 'D'],\n",
        "                  index=np.arange(0, 100, 10))\n",
        "df"
      ],
      "execution_count": null,
      "outputs": []
    },
    {
      "cell_type": "code",
      "metadata": {
        "id": "BkUng-pFTNLB",
        "collapsed": true
      },
      "source": [
        "df.plot()"
      ],
      "execution_count": null,
      "outputs": []
    },
    {
      "cell_type": "markdown",
      "metadata": {
        "id": "Eu5EqUy0TYJh"
      },
      "source": [
        "El atributo de plot contiene una \"familia\" de métodos para diferentes tipos de trazado. Por ejemplo, **df.plot()** es equivalente a **df.plot.line()**."
      ]
    },
    {
      "cell_type": "markdown",
      "metadata": {
        "id": "gmLHInjvTg9D"
      },
      "source": [
        "### Bar plots\n",
        "**Plot.bar()** y **plot.barh()** crean gráficos de barras verticales y horizontales, respectivamente. En este caso, el índice Series o DataFrame se utilizará como los ticks x (bar) o y (barh)"
      ]
    },
    {
      "cell_type": "code",
      "metadata": {
        "id": "qSvJyHkaTr00",
        "collapsed": true
      },
      "source": [
        "fig, axes = plt.subplots(2, 1)\n",
        "data = pd.Series(np.random.rand(16), index=list('abcdefghijklmnop'))\n",
        "data.plot.bar(ax=axes[0], color='k', alpha=0.7)\n",
        "data.plot.barh(ax=axes[1], color='k', alpha=0.7)"
      ],
      "execution_count": null,
      "outputs": []
    },
    {
      "cell_type": "markdown",
      "metadata": {
        "id": "CrQgiK_OT8Dv"
      },
      "source": [
        "Las opciones color = 'k' y alpha = 0.7 establecen el color de los plots en negro y usan una transparencia parcial en el relleno."
      ]
    },
    {
      "cell_type": "code",
      "metadata": {
        "id": "JWrlngycUD4n",
        "collapsed": true
      },
      "source": [
        "df = pd.DataFrame(np.random.rand(6, 4),\n",
        "                  index=['one', 'two', 'three', 'four', 'five', 'six'],\n",
        "                  columns=pd.Index(['A', 'B', 'C', 'D'], name='Genus'))\n",
        "df"
      ],
      "execution_count": null,
      "outputs": []
    },
    {
      "cell_type": "code",
      "metadata": {
        "id": "tbc9H2GbUJsV",
        "collapsed": true
      },
      "source": [
        "df.plot.bar()"
      ],
      "execution_count": null,
      "outputs": []
    },
    {
      "cell_type": "code",
      "metadata": {
        "id": "c8YNQjezUPc7",
        "collapsed": true
      },
      "source": [
        "df.plot.barh(stacked = True, alpha=0.5)"
      ],
      "execution_count": null,
      "outputs": []
    },
    {
      "cell_type": "markdown",
      "metadata": {
        "id": "RyVQhEN2UZm_"
      },
      "source": [
        "\n",
        "---\n",
        "\n",
        "\n",
        "### Seaborn\n",
        "\n",
        "Seaborn es una capa de abstracción en la parte superior de Matplotlib; te brinda una interfaz realmente ordenada para hacer una amplia gama de tipos de gráficos útiles con mucha facilidad.\n",
        "\n",
        "El código de Seaborn es más simple que el Matplotlib sin procesar.\n",
        "\n",
        "Con datos que requieren agregación o resumen antes de hacer un diagrama, el uso del paquete Seaborn puede hacer las cosas mucho más simples."
      ]
    },
    {
      "cell_type": "code",
      "metadata": {
        "id": "KQHdCedUUb9d",
        "collapsed": true
      },
      "source": [
        "import seaborn as sns\n",
        "tips = pd.read_csv('https://raw.githubusercontent.com/manquintana/Finlab-UADE/main/Ejercitacion/Datasets/tips.csv')\n",
        "tips['tip_pct'] = tips['tip'] / (tips['total_bill'] - tips['tip'])\n",
        "tips.head()"
      ],
      "execution_count": null,
      "outputs": []
    },
    {
      "cell_type": "code",
      "metadata": {
        "id": "1XDbvitoVGMa",
        "collapsed": true
      },
      "source": [
        "sns.barplot(x='tip_pct', y='day', data=tips, orient='h')"
      ],
      "execution_count": null,
      "outputs": []
    },
    {
      "cell_type": "markdown",
      "metadata": {
        "id": "gDzVulXEVSPl"
      },
      "source": [
        "Las funciones de plot en Seaborn toman un argumento de datos, que puede ser un DataFrame de Pandas. \n",
        "\n",
        "Los otros argumentos se refieren a los nombres de columna. Debido a que hay múltiples observaciones para cada valor en el día, las barras son el valor promedio de tip_pct. \n",
        "\n",
        "**Las líneas negras dibujadas en las barras representan el intervalo de confianza del 95%.**"
      ]
    },
    {
      "cell_type": "code",
      "metadata": {
        "id": "bQcv0X7bVYvT",
        "collapsed": true
      },
      "source": [
        "sns.barplot(x='tip_pct', y='day', hue='time', data=tips, orient='h')"
      ],
      "execution_count": null,
      "outputs": []
    },
    {
      "cell_type": "markdown",
      "metadata": {
        "id": "fCpMJkP0VvJh"
      },
      "source": [
        "### Histogramas\n",
        "Un histograma es un tipo de diagrama de barras que proporciona una visualización discreta de la frecuencia de los valores. \n",
        "\n",
        "Los puntos de datos se dividen en compartimientos discretos, espaciados uniformemente, y se traza el número de puntos de datos en cada contenedor. Usando los datos de propinas de antes, podemos hacer un histograma de porcentajes de propinas de la factura total usando el método **plot.hist** en la Serie"
      ]
    },
    {
      "cell_type": "code",
      "metadata": {
        "id": "1uZnSurjV3Kv",
        "collapsed": true
      },
      "source": [
        "tips['tip_pct'].plot.hist(bins=20)"
      ],
      "execution_count": null,
      "outputs": []
    },
    {
      "cell_type": "markdown",
      "metadata": {
        "id": "wrg5eLawWBqp"
      },
      "source": [
        "Un tipo de gráfico relacionado es un gráfico de densidad, que se forma al calcular una estimación de una distribución de probabilidad continua que podría haber generado los datos observados."
      ]
    },
    {
      "cell_type": "code",
      "metadata": {
        "id": "1BZNoqYTWHA3",
        "collapsed": true
      },
      "source": [
        "tips['tip_pct'].plot.density()"
      ],
      "execution_count": null,
      "outputs": []
    },
    {
      "cell_type": "markdown",
      "metadata": {
        "id": "8he9vrk8WM73"
      },
      "source": [
        "Seaborn hace que los histogramas y las gráficas de densidad sean aún más fáciles a través de su método **distplot**, que puede trazar simultáneamente un histograma y una estimación de densidad continua."
      ]
    },
    {
      "cell_type": "code",
      "metadata": {
        "id": "2k9pEJi8WYoW",
        "collapsed": true
      },
      "source": [
        "#Tomando el mismo ejemplo de recién pero ahroa con seaborn\n",
        "sns.distplot(tips['tip_pct'], bins=50, color='k')"
      ],
      "execution_count": null,
      "outputs": []
    },
    {
      "cell_type": "markdown",
      "source": [
        "Segundo ejemplo:"
      ],
      "metadata": {
        "id": "3ATt2fYwMDKq"
      }
    },
    {
      "cell_type": "code",
      "metadata": {
        "id": "J8h6EzCVWRmt"
      },
      "source": [
        "comp1 = np.random.normal(0, 1, size=200)\n",
        "comp2 = np.random.normal(10, 2, size=200)\n",
        "values = pd.Series(np.concatenate([comp1, comp2]))\n",
        "values"
      ],
      "execution_count": null,
      "outputs": []
    },
    {
      "cell_type": "code",
      "source": [
        "sns.distplot(values, bins=120, color='k')"
      ],
      "metadata": {
        "collapsed": true,
        "id": "2GHMGdt-MLmO"
      },
      "execution_count": null,
      "outputs": []
    },
    {
      "cell_type": "markdown",
      "metadata": {
        "id": "e6K9qXtLWdHm"
      },
      "source": [
        "### Scatter plots\n",
        "Los gráficos de puntos o los gráficos de dispersión pueden ser una forma útil de examinar la relación entre dos series de datos unidimensionales. Por ejemplo, aquí cargamos el conjunto de datos de macrodatos del proyecto statsmodels, seleccionamos algunas variables y luego calculamos las diferencias de registro.\n"
      ]
    },
    {
      "cell_type": "code",
      "metadata": {
        "id": "K4_y_YLbW7-P",
        "collapsed": true
      },
      "source": [
        "df_csv = pd.read_csv('https://raw.githubusercontent.com/manquintana/Finlab-UADE/main/Ejercitacion/Datasets/data.csv')\n",
        "data = df_csv[['cpi', 'm1', 'tbilrate', 'unemp']]\n",
        "trans_data = np.log(data).diff().dropna() #Le aplicamos una transformacion\n",
        "trans_data[-5:]"
      ],
      "execution_count": null,
      "outputs": []
    },
    {
      "cell_type": "code",
      "metadata": {
        "id": "6hMrszx0XMC5",
        "collapsed": true
      },
      "source": [
        "sns.regplot(data=trans_data, x='m1', y='unemp')"
      ],
      "execution_count": null,
      "outputs": []
    },
    {
      "cell_type": "markdown",
      "metadata": {
        "id": "HAixThjSXbs8"
      },
      "source": [
        "En el análisis exploratorio de datos, es útil poder observar todos los gráficos de dispersión entre un grupo de variables; Esto se conoce como un **diagrama de pares** o **matriz de diagrama de dispersión**.\n",
        "\n",
        "Hacer un diagrama de este tipo desde cero puede ser un poco trabajoso, por lo que Seaborn tiene una conveniente función de diagrama de pares, que admite la colocación de histogramas o estimaciones de densidad de cada variable a lo largo de la diagonal\n",
        "\n",
        "<DRUMS PLEASE!>\n",
        "\n",
        "\n",
        "<img src = \"https://learningthroughwork.files.wordpress.com/2013/04/animal_drums.jpg\">\n"
      ]
    },
    {
      "cell_type": "code",
      "metadata": {
        "id": "_UCfnW9CXj2u",
        "collapsed": true
      },
      "source": [
        "sns.pairplot(trans_data, diag_kind='kde', plot_kws={'alpha': 0.2})\n",
        "#sns.pairplot(trans_data, diag_kind='kde', plot_kws={'alpha': 0.2})"
      ],
      "execution_count": null,
      "outputs": []
    },
    {
      "cell_type": "markdown",
      "metadata": {
        "id": "9qFzpmAYYKbh"
      },
      "source": [
        "Una forma de visualizar datos con muchas variables categóricas es usar una cuadrícula de facetas. Seaborn tiene una útil gráfica de factor de función incorporada que simplifica la creación de muchos tipos de gráficos facetados"
      ]
    },
    {
      "cell_type": "code",
      "metadata": {
        "id": "jlQOqRBiYO-3",
        "collapsed": true
      },
      "source": [
        "# factorplot esta deprecado, ahora usar \"catplot\"\n",
        "#sns.factorplot(x='day', y='tip_pct', hue='time', col='smoker', \n",
        "#               kind='bar', data=tips[tips.tip_pct < 1])\n",
        "\n",
        "sns.catplot(x='day', y='tip_pct', hue='time', col='smoker',\n",
        "               kind='bar', data=tips[tips.tip_pct < 1])"
      ],
      "execution_count": null,
      "outputs": []
    },
    {
      "cell_type": "markdown",
      "metadata": {
        "id": "TuccPwYXYfy6"
      },
      "source": [
        "**catplot** admite otros tipos de gráficos que pueden ser útiles según lo que intente mostrar. Por ejemplo, los gráficos de caja (que muestran la mediana, los cuartiles y los valores atípicos) pueden ser un tipo de visualización eficaz"
      ]
    },
    {
      "cell_type": "code",
      "metadata": {
        "id": "ib26bUUzYmSV",
        "collapsed": true
      },
      "source": [
        "# sns.factorplot(x='tip_pct', y='day', kind='box',\n",
        "#                data=tips[tips.tip_pct < 0.5])\n",
        "sns.catplot(x='tip_pct', y='day', kind='box',\n",
        "               data=tips[tips.tip_pct < 0.5])"
      ],
      "execution_count": null,
      "outputs": []
    },
    {
      "cell_type": "markdown",
      "metadata": {
        "id": "6VsDV4dpZTkp"
      },
      "source": [
        "\n",
        "\n",
        "---\n",
        "\n",
        "\n",
        "## Plotly\n",
        "\n",
        "[Plotly](https://plotly.com/graphing-libraries/) es un ecosistema de plots que incluye una biblioteca de trazado de Python. Tiene tres interfaces diferentes:\n",
        "\n",
        "* Una interfaz orientada a objetos.\n",
        "* Una interfaz que le permite especificar su trama utilizando estructuras de datos similares a JSON\n",
        "* Una interfaz de alto nivel similar a Seaborn llamada **Plotly Express**\n",
        "\n",
        "Los plots están diseñadas para integrarse en aplicaciones web. \n"
      ]
    },
    {
      "cell_type": "code",
      "metadata": {
        "id": "vimKe-HnZ2Ea",
        "collapsed": true
      },
      "source": [
        "import plotly.express as px\n",
        "fig = px.scatter(x=[0, 1, 2, 3, 4], y=[0, 1, 4, 9, 16])\n",
        "fig.show()"
      ],
      "execution_count": null,
      "outputs": []
    },
    {
      "cell_type": "code",
      "metadata": {
        "id": "7Ds6C99JaBWL",
        "collapsed": true
      },
      "source": [
        "import plotly.express as px\n",
        "df = px.data.tips()\n",
        "fig = px.histogram(df, x=\"total_bill\", y=\"tip\",\n",
        "                   hover_data=df.columns)\n",
        "fig.show()"
      ],
      "execution_count": null,
      "outputs": []
    },
    {
      "cell_type": "code",
      "metadata": {
        "id": "sjrSab1eaKRp",
        "collapsed": true
      },
      "source": [
        "# Heatmap\n",
        "import plotly.express as px\n",
        "fig = px.imshow([[1, 20, 30],\n",
        "                 [20, 1, 60],\n",
        "                 [30, 60, 1]])\n",
        "fig.show()"
      ],
      "execution_count": null,
      "outputs": []
    },
    {
      "cell_type": "code",
      "metadata": {
        "id": "AQSxF6jHaSfz"
      },
      "source": [
        "import plotly.graph_objects as go\n",
        "import numpy as np\n",
        "np.random.seed(1)\n",
        "\n",
        "N = 70\n",
        "\n",
        "fig = go.Figure(data=[go.Mesh3d(\n",
        "                   x=(70*np.random.randn(N)),\n",
        "                   y=(55*np.random.randn(N)),\n",
        "                   z=(40*np.random.randn(N)),\n",
        "                   opacity=0.5,\n",
        "                   color='rgba(244,22,100,0.6)'\n",
        "                  )])\n",
        "\n",
        "fig.update_layout(\n",
        "    scene = dict(\n",
        "        xaxis = dict(nticks=4, range=[-100,100],),\n",
        "                     yaxis = dict(nticks=4, range=[-50,100],),\n",
        "                     zaxis = dict(nticks=4, range=[-100,100],),),\n",
        "    width=700,\n",
        "    margin=dict(r=20, l=10, b=10, t=10))\n",
        "\n",
        "fig.show()"
      ],
      "execution_count": null,
      "outputs": []
    }
  ]
}