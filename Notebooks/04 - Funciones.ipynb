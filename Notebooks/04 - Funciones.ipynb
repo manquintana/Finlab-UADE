{
  "nbformat": 4,
  "nbformat_minor": 0,
  "metadata": {
    "colab": {
      "provenance": []
    },
    "kernelspec": {
      "name": "python3",
      "display_name": "Python 3"
    },
    "language_info": {
      "name": "python"
    }
  },
  "cells": [
    {
      "cell_type": "markdown",
      "source": [
        "# Funciones"
      ],
      "metadata": {
        "id": "9cSXWJGsbvMz"
      }
    },
    {
      "cell_type": "markdown",
      "source": [
        "Pensemos en las matemáticas que conocemos. Una función tiene la siguiente pinta:\n",
        "\n",
        "\\begin{align}\n",
        "y(x) = \\frac{x ^2 \\,}{x + 1}\n",
        "\\end{align}\n",
        "\n",
        "Sin ser demasiado preciso en el análisis, podemos pensar que:\n",
        "- Hay una variable 𝒳 que es lo que entra a la función.\n",
        "- La función ejecuta alguna acción con esa variable.\n",
        "- Y después le asigna el resultado de la función a 𝓨.\n"
      ],
      "metadata": {
        "id": "bPvcxz5vdE2y"
      }
    },
    {
      "cell_type": "markdown",
      "source": [
        "![image.png](data:image/png;base64,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)\n",
        "\n",
        "*Otra obra de arte* 🙃"
      ],
      "metadata": {
        "id": "0Y1JIfBidLzP"
      }
    },
    {
      "cell_type": "markdown",
      "source": [
        "Las funciones en programación cumplen los siguientes objetivos:\n",
        "\n",
        "- Permiten resolver operaciones matemáticas\n",
        "- Permiten resolver operaciones no matemáticas\n",
        "- Son bloques de código que se pueden reutilizar\n",
        "- Si un bloque de código se repite varias veces, en lugar de reescribirlo conviene escribir una función.\n",
        "- Cada función resuelve una tarea específica y no muchas cosas (en dicho caso habría que escribir más de una función).\n",
        "\n",
        "En Python diferenciamos dos tipos de funciones:\n",
        "- Built-in functions (funciones que ya vienen integradas)\n",
        "- User defined functions (funciones definidas por el usuario)\n",
        "\n",
        "Las primeras las hemos utilizado bastante, sin saber de qué se trataba. Por ejemplo al escribir: `print('Hola')` estamos llamando a la built-in function `print` y le estamos pasando como *parámetro* el string 'Hola'."
      ],
      "metadata": {
        "id": "8Y5_MrPwft8A"
      }
    },
    {
      "cell_type": "markdown",
      "metadata": {
        "id": "yTwzhJa47fsd"
      },
      "source": [
        "**Ejemplos de Built-in functions:**"
      ]
    },
    {
      "cell_type": "code",
      "metadata": {
        "id": "n467xuCj7c7X"
      },
      "source": [
        "# print es una funcion que recibe un parámetro y lo muestra en pantalla\n",
        "print(\"Hola\")\n",
        "\n",
        "# Todos los casteos de tipos de datos son funciones\n",
        "numero = int(2.5)\n",
        "print(numero)\n",
        "\n",
        "# input\n",
        "nombre = input(\"Ingrese su nombre: \")\n",
        "\n",
        "# len\n",
        "lista = [1,2,3,4,5,6,7]\n",
        "print(len(lista))\n"
      ],
      "execution_count": null,
      "outputs": []
    },
    {
      "cell_type": "markdown",
      "source": [
        "# Caja negra vs caja blanca\n",
        "\n",
        "<img src = 'https://upload.wikimedia.org/wikipedia/commons/thumb/6/65/Fyrverkeri_-_L%C3%A5da_-_Ystad-2021.jpg/200px-Fyrverkeri_-_L%C3%A5da_-_Ystad-2021.jpg' />\n",
        "\n",
        "Esta dualidad de las funciones es muy utilizado en el momento de testear software (es toda una rama de la ingeniería informática).\n",
        "\n",
        "1. Hablamos de que las funciones funcionan como \"**cajas negras**\" porque el usuario no ve cómo está implementado algo sino que simplemente lo utiliza pasando los parámetros que corresponda y obteniendo un resultado. Si se quiere probar un componente de software como caja negra, se creará una prueba que valide la salida de la función con ciertos datos de entrada.\n",
        "\n",
        "2. Por otro lado al momento de programar una función, los programadores la ven como \"**cajas blancas**\", es decir que ven cómo están implementadas (de hecho, nosotros somos quienes debemos implementarlas). Y al momento de hacer un test de caja blanca sobre una función en lugar de evaluar únicamente la entrada y salida, se evaluará por ejemplo la implementación que se haya hecho, la claridad del código, las dependencias que tenga con componentes externos, etc.\n"
      ],
      "metadata": {
        "id": "EVMLCNDOgdf8"
      }
    },
    {
      "cell_type": "markdown",
      "source": [
        "\n",
        "\n",
        "---\n",
        "\n",
        "\n",
        "# User defined functions\n"
      ],
      "metadata": {
        "id": "p666JggdhQXN"
      }
    },
    {
      "cell_type": "markdown",
      "metadata": {
        "id": "lSdfq3sA5-Yo"
      },
      "source": [
        "Ahora pasemos a los detalles de las **funciones definidas por el usuario**:\n",
        "\n",
        "En python para definir nuestras propias funciones tenemos que respetar la siguiente sintaxis:\n",
        "\n",
        "\n",
        "```\n",
        "def NOMBRE(LISTA_DE_PARAMETROS):\n",
        "    \"\"\"DOCSTRING_DE_FUNCION\"\"\" <OPCIONAL>\n",
        "    SENTENCIAS <NO OPCIONAL>\n",
        "    RETURN [EXPRESION] <OPCIONAL, ES BUENA PRÁCTICA QUE ESTÉ>\n",
        "```\n",
        "- NOMBRE, es el nombre de la función.\n",
        "- LISTA_DE_PARAMETROS, es la lista de parámetros que puede recibir una función.\n",
        "- DOCSTRING_DE_FUNCION, es la cadena de caracteres usada para documentar la función.\n",
        "- SENTENCIAS, es el bloque de sentencias en código fuente Python que realizar cierta operación dada.\n",
        "- RETURN, es la sentencia return en código Python.\n",
        "- EXPRESION, es la expresión o variable que devuelve la sentencia return.\n"
      ]
    },
    {
      "cell_type": "markdown",
      "metadata": {
        "id": "b161mmUg-pdU"
      },
      "source": [
        "¿Qué sucede si una función no tiene RETURN?"
      ]
    },
    {
      "cell_type": "code",
      "metadata": {
        "id": "giozPaB2-TtO"
      },
      "source": [
        "def mostrar_numero(numero):\n",
        "  print(numero)\n",
        "\n",
        "respuesta = mostrar_numero(2.6)"
      ],
      "execution_count": null,
      "outputs": []
    },
    {
      "cell_type": "code",
      "metadata": {
        "id": "QzXvOjo5-hS_"
      },
      "source": [
        "type(respuesta)"
      ],
      "execution_count": null,
      "outputs": []
    },
    {
      "cell_type": "markdown",
      "metadata": {
        "id": "mdTRoWc0-3UD"
      },
      "source": [
        "Vemos que por defecto una función devuelve **None**"
      ]
    },
    {
      "cell_type": "code",
      "metadata": {
        "id": "ZHieJNF219c7"
      },
      "source": [
        "# Si esta funcion tuviese return:\n",
        "def mostrar_numero(numero):\n",
        "  print(numero)\n",
        "  return numero\n",
        "\n",
        "respuesta = mostrar_numero(2)"
      ],
      "execution_count": null,
      "outputs": []
    },
    {
      "cell_type": "code",
      "metadata": {
        "id": "dgdyW9Oi2D6K"
      },
      "source": [
        "type(respuesta)"
      ],
      "execution_count": null,
      "outputs": []
    },
    {
      "cell_type": "markdown",
      "metadata": {
        "id": "Cam5n3xrBcjr"
      },
      "source": [
        "¿Cómo programaríamos una función que reciba por parámetro el nombre de usuario y lo salude?\n",
        "\n",
        "¿En este caso tiene sentido agregar un RETURN en la función?"
      ]
    },
    {
      "cell_type": "code",
      "metadata": {
        "id": "nvq3sqOSBpo9"
      },
      "source": [
        "# 1° definimos la función\n",
        "def saludar(usuario):\n",
        "  print(f'Hola {usuario}')\n",
        "\n",
        "# 2° el usuario ingresa su nombre\n",
        "nombre = input(\"Ingrese su nombre: \")\n",
        "\n",
        "# 3° llamamos la funcion\n",
        "saludar(nombre)"
      ],
      "execution_count": null,
      "outputs": []
    },
    {
      "cell_type": "markdown",
      "metadata": {
        "id": "3iPw5kAcBFnH"
      },
      "source": [
        "¿Cómo programaríamos una función que reciba dos números como parámetro y los sume?\n"
      ]
    },
    {
      "cell_type": "code",
      "metadata": {
        "id": "OaSXowbFBPmb"
      },
      "source": [
        "def sumar(): # Completar esta función\n",
        "\n",
        "\n",
        "numero1 = 1\n",
        "numero2 = 2\n",
        "respuesta = sumar(numero1, numero2)\n",
        "print(f'{numero1} + {numero2} = {respuesta}')"
      ],
      "execution_count": null,
      "outputs": []
    },
    {
      "cell_type": "markdown",
      "metadata": {
        "id": "jcA-tIoFBP4o"
      },
      "source": [
        "¿Cómo programaríamos una función que reciba dos números como parámetro y los multiplique?"
      ]
    },
    {
      "cell_type": "code",
      "metadata": {
        "id": "JPSMK-tEBVkA"
      },
      "source": [
        "def multiplicar(): # Completar esta función\n",
        "\n",
        "\n",
        "numero1 = 3\n",
        "numero2 = 2\n",
        "respuesta = multiplicar(numero1, numero2)\n",
        "print(f'{numero1} x {numero2} = {respuesta}')"
      ],
      "execution_count": null,
      "outputs": []
    },
    {
      "cell_type": "markdown",
      "metadata": {
        "id": "FQoLEbXVBX7Z"
      },
      "source": [
        "¿Cómo programaríamos una función que reciba dos números como parámetro y los divida?"
      ]
    },
    {
      "cell_type": "code",
      "metadata": {
        "id": "b1kpvXBWBab7"
      },
      "source": [
        "def dividir(): # Completar esta función\n",
        "\n",
        "\n",
        "numero1 = 3\n",
        "numero2 = 0\n",
        "respuesta = dividir(numero1, numero2)\n",
        "print(f'{numero1} / {numero2} = {respuesta}')"
      ],
      "execution_count": null,
      "outputs": []
    },
    {
      "cell_type": "markdown",
      "source": [
        "\n",
        "\n",
        "---\n",
        "\n",
        "Ej: Se pide escribir una función que asigne tres premios (1er premio, 2do premio y 3er premio), a repartirse al azar entre 100 personas que participaron del sorteo.\n",
        "\n",
        "A tener en cuenta: No puede asignarse más de un premio a la misma persona.\n"
      ],
      "metadata": {
        "id": "1S7xLsogO1o9"
      }
    },
    {
      "cell_type": "code",
      "source": [
        "# a) Resolverlo retornando una lista como salida de la función.\n",
        "\n",
        "def sortear():\n",
        "\n",
        "\n",
        "numeros_ganadores = sortear()\n",
        "print(numeros_ganadores)\n"
      ],
      "metadata": {
        "id": "TBdcO_HMPDT5"
      },
      "execution_count": null,
      "outputs": []
    },
    {
      "cell_type": "code",
      "source": [
        "# b) Resolverlo retornando 3 variables como salida de una función.\n",
        "# ¿Ah, se podía hacer eso en Python?"
      ],
      "metadata": {
        "id": "uUtoEOF_Pdg1"
      },
      "execution_count": null,
      "outputs": []
    },
    {
      "cell_type": "markdown",
      "metadata": {
        "id": "ujRK0V44Cv5b"
      },
      "source": [
        "\n",
        "\n",
        "---\n",
        "\n",
        "\n",
        "**Desafío**: Se quiere escribir una función que reciba una lista con los nombres de los alumnos de este curso y los divida aleatoriamente en 3 grupos para conformar los grupos para el trabajo práctico.\n",
        "\n",
        "En este caso quiero utilizar una función que mezcle los valores en una lista pero:\n",
        "1. No la quiero definir yo\n",
        "2. No viene con python!\n",
        "\n",
        "Para agregar funcionalidades que no vienen con Python debemos hacer uso de librerías externas, que nos extienden el comportamiento (lo veremos en detalle luego). Para este caso en particular recomiendo usar la librería externa \"random\" que nos provee una función llamada `shuffle`.\n",
        "\n",
        "\n",
        "\n",
        "\n"
      ]
    },
    {
      "cell_type": "code",
      "metadata": {
        "id": "FpRDuushHUwP"
      },
      "source": [
        "import random\n",
        "\n",
        "#Si somos cant. par de alumnos funcionará, ¿Qué corrección haría para cursos impares?\n",
        "def crear_grupos(alumnos):\n",
        "  random.shuffle(alumnos) # Mezclo los valores de la lista\n",
        "  partes = round(len(alumnos)/3)\n",
        "\n",
        "  grupo1 = []\n",
        "  for i in range (0, partes):\n",
        "      grupo1.append(alumnos[i])\n",
        "\n",
        "  grupo2 = []\n",
        "  for i in range (partes, partes*2):\n",
        "      grupo2.append(alumnos[i])\n",
        "\n",
        "  grupo3 = []\n",
        "  for i in range (partes*2, partes*3):\n",
        "      grupo3.append(alumnos[i])\n",
        "\n",
        "  return grupo1, grupo2, grupo3\n",
        "\n",
        "alumnos = ['A','B','C','D','E','F']\n",
        "grupo1, grupo2, grupo3 = crear_grupos(alumnos)\n",
        "print(f'GRUPO 1: {grupo1}')\n",
        "print(f'GRUPO 2: {grupo2}')\n",
        "print(f'GRUPO 3: {grupo3}')\n"
      ],
      "execution_count": null,
      "outputs": []
    }
  ]
}