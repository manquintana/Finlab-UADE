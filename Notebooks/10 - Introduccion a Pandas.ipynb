{
  "nbformat": 4,
  "nbformat_minor": 0,
  "metadata": {
    "colab": {
      "provenance": []
    },
    "kernelspec": {
      "name": "python3",
      "display_name": "Python 3"
    }
  },
  "cells": [
    {
      "cell_type": "markdown",
      "metadata": {
        "id": "view-in-github"
      },
      "source": [
        "<a href=\"https://colab.research.google.com/github/al34n1x/DataScience/blob/master/3.Pandas/Pandas_Intro.ipynb\" target=\"_parent\"><img src=\"https://colab.research.google.com/assets/colab-badge.svg\" alt=\"Open In Colab\"/></a>"
      ]
    },
    {
      "cell_type": "markdown",
      "metadata": {
        "id": "75YpFVg5xBXX"
      },
      "source": [
        "#Pandas\n",
        "\n",
        "\n",
        "Pandas será una herramienta importante durante el resto de la cursada. Contiene estructuras y herramientas de manipulación de datos diseñadas para hacer que la limpieza y el análisis de datos sean rápidos y fáciles en Python. Pandas a menudo se usa en conjunto con herramientas de cómputo numérico como **NumPy** y **SciPy**, bibliotecas analíticas como **statsmodels** y **scikit-learn**, y bibliotecas de visualización de datos como **matplotlib**. Pandas adopta partes significativas de nomenclaturas utilizadas con NumPy, especialmente funciones basadas en arreglos y la facilidad de procesamiento de datos sin bucles.\n",
        "\n",
        "Mientras que Pandas adopta muchos modismos de codificación de NumPy, la mayor diferencia es que Pandas está diseñado para trabajar con **datos tabulares o heterogéneos**. NumPy, por el contrario, es más adecuado para trabajar con datos de **matriz numérica homogénea**.\n",
        "\n",
        "![](https://i.pinimg.com/originals/4e/64/5f/4e645ff4125038aa70f156918323ecb1.jpg)\n",
        "\n"
      ]
    },
    {
      "cell_type": "markdown",
      "metadata": {
        "id": "DKaseIgiyhhS"
      },
      "source": [
        "Para comenzar con Pandas, deberás sentirse cómodo con sus dos estructuras de datos más importantes: **Series** y **DataFrame**. Si bien no son una solución universal para cada problema, proporcionan una base sólida y fácil de usar para la mayoría de las aplicaciones que iremos trabajando.\n"
      ]
    },
    {
      "cell_type": "markdown",
      "metadata": {
        "id": "Ew9sUZAZzHP4"
      },
      "source": [
        "## Series\n",
        "\n",
        "Una serie es un objeto matriz unidimensional que puede almacenar cualquier tipo de datos *(int,string,float,etc)* y una matriz asociada de etiquetas de datos, denominada **índice**. La serie más simple está formada solo por una matriz de datos:\n",
        "\n"
      ]
    },
    {
      "cell_type": "code",
      "metadata": {
        "id": "MZeLFSM3xAhi"
      },
      "source": [
        "import pandas as pd\n",
        "from pandas import Series, DataFrame\n",
        "obj = pd.Series([4, 7, -5, 3])\n",
        "obj"
      ],
      "execution_count": null,
      "outputs": []
    },
    {
      "cell_type": "markdown",
      "metadata": {
        "id": "RXyQ8Efiz42Y"
      },
      "source": [
        "En algunas circunstancias es posible que desees crear tus propios labels para los índices, puedes hacerlo de la siguiente forma.\n"
      ]
    },
    {
      "cell_type": "code",
      "metadata": {
        "id": "i4vlZt5u0Jc_"
      },
      "source": [
        "obj2 = pd.Series([4, 7, -5, 3], index=['d', 'b', 'a', 'c']) # Le agregamos los labels de los índices. El orden se mantiene 1:1\n",
        "obj2"
      ],
      "execution_count": null,
      "outputs": []
    },
    {
      "cell_type": "markdown",
      "metadata": {
        "id": "76lDgKL30k8c"
      },
      "source": [
        "Ahora bien, ¿Para qué puedo utilizar ese índice? A diferencia de NumPy puedo utilizarlos para referenciar a un valor o un set de valores"
      ]
    },
    {
      "cell_type": "code",
      "metadata": {
        "id": "nH7gGYXQ0gfq"
      },
      "source": [
        "obj2['a']"
      ],
      "execution_count": null,
      "outputs": []
    },
    {
      "cell_type": "markdown",
      "metadata": {
        "id": "qWjEhqbN0yHr"
      },
      "source": [
        "Usar funciones o operaciones aritméticas como filtrado, multiplicaciones de escalares o arreglos de booleans, mantendrá el valor del índice\n"
      ]
    },
    {
      "cell_type": "code",
      "metadata": {
        "id": "GA6ovM2d1CU-"
      },
      "source": [
        "obj2[obj2 > 0]"
      ],
      "execution_count": null,
      "outputs": []
    },
    {
      "cell_type": "code",
      "metadata": {
        "id": "c1b_UiTU1DcW"
      },
      "source": [
        "obj2 * 2"
      ],
      "execution_count": null,
      "outputs": []
    },
    {
      "cell_type": "markdown",
      "metadata": {
        "id": "uedsokHj1SKC"
      },
      "source": [
        "Otra forma de pensar en series podría ser un diccionario de longitud fija, que mapea índices con valores. Puede ser utilizado en muchos contextos.\n"
      ]
    },
    {
      "cell_type": "code",
      "metadata": {
        "id": "GpJ66Xua1gQ4"
      },
      "source": [
        "sdata = {'Buenos Aires': 35000,\n",
        "         'Santa Fe': 71000,\n",
        "         'Mendoza': 16000,\n",
        "         'Córdoba': 5000}\n",
        "obj3 = pd.Series(sdata)\n",
        "obj3"
      ],
      "execution_count": null,
      "outputs": []
    },
    {
      "cell_type": "code",
      "metadata": {
        "id": "16FbL3EU10qf"
      },
      "source": [
        "provincias = ['Tucumán', 'Buenos Aires', 'Santa Fe', 'Mendoza']\n",
        "obj4 = pd.Series(sdata, index=provincias)\n",
        "obj4"
      ],
      "execution_count": null,
      "outputs": []
    },
    {
      "cell_type": "markdown",
      "metadata": {
        "id": "-SIDOhB83I_n"
      },
      "source": [
        "Como recuerdan en Python todo se comporta como objetos, y series no son las excepciones. Las series poseen un índice y atributos de nombre, los cuales pueden ser utilizados con otras herramientas de Panda.\n"
      ]
    },
    {
      "cell_type": "code",
      "metadata": {
        "id": "4F0uICA-4Vwy"
      },
      "source": [
        "obj4.name = 'Población'\n",
        "obj4.index.name = 'Provincias'\n",
        "obj4"
      ],
      "execution_count": null,
      "outputs": []
    },
    {
      "cell_type": "markdown",
      "source": [
        "**Casteo de Series**\n",
        "\n",
        "Puedes enviar un diccionario o lista como parámetro y Pandas se encargará de convertirlo al tipo de objeto series, y viceversa."
      ],
      "metadata": {
        "id": "BzYcj4azVteO"
      }
    },
    {
      "cell_type": "code",
      "source": [
        "pdict_1 = {\n",
        "    'car1': 'Honda',\n",
        "    'car2': 'Toyota',\n",
        "    'car3': 'Ford',\n",
        "    'car4': 'GM',\n",
        "    'car5': 'BMW',\n",
        "    'car6': 'Nissan'\n",
        "  }\n",
        "\n",
        "pdict_1"
      ],
      "metadata": {
        "id": "O5raPqIgV-T8"
      },
      "execution_count": null,
      "outputs": []
    },
    {
      "cell_type": "code",
      "source": [
        "pseries = pd.Series(pdict_1)\n",
        "pseries"
      ],
      "metadata": {
        "id": "DNP79Oc-WIWF"
      },
      "execution_count": null,
      "outputs": []
    },
    {
      "cell_type": "code",
      "source": [
        "pdict_from_series = dict(pseries) # Casteo una serie como Diccionario. Se puede realizar lo mismo con Listas\n",
        "pdict_from_series"
      ],
      "metadata": {
        "id": "KMmmmmMeWZcJ"
      },
      "execution_count": null,
      "outputs": []
    },
    {
      "cell_type": "markdown",
      "metadata": {
        "id": "YEQGk9px4hmx"
      },
      "source": [
        "\n",
        "\n",
        "---\n",
        "\n",
        "\n",
        "## DataFrame\n",
        "\n",
        "Los DataFrames (df) serán nuestro principal aliado al utilizar Pandas.\n",
        "\n",
        "Un DataFrame representa una tabla rectangular de datos que contiene una colección ordenadas de columnas, cuales pueden ser de diferente tipo de valor (númerico, cadenas, booleanos, etc). El DataFrame tiene un índice para las filas y otro para las columnas. Detrás de escena, lo que sucede es que los datos son almacenados como uno o mas bloques de datos de dos dimensiones.\n"
      ]
    },
    {
      "cell_type": "code",
      "metadata": {
        "id": "S4Pv3ToSWBfc"
      },
      "source": [
        "data = {'provincia': ['Buenos Aires', 'Buenos Aires', 'Buenos Aires', 'Córdoba', 'Córdoba', 'Córdoba'],\n",
        "        'año': [2000, 2001, 2002, 2001, 2002, 2003],\n",
        "        'pob': [1.5, 1.7, 3.6, 2.4, 2.9, 3.2]}\n",
        "frame = pd.DataFrame(data)\n",
        "frame"
      ],
      "execution_count": null,
      "outputs": []
    },
    {
      "cell_type": "markdown",
      "metadata": {
        "id": "PTfM1XbbWpTH"
      },
      "source": [
        "Si te encontras trabajando con grandes datasets, el método **head** selecciona las primeras 5 filas del mismo.\n"
      ]
    },
    {
      "cell_type": "code",
      "metadata": {
        "id": "N33_nvugWn0b"
      },
      "source": [
        "frame.head()"
      ],
      "execution_count": null,
      "outputs": []
    },
    {
      "cell_type": "markdown",
      "metadata": {
        "id": "zB5cW8wWXAJS"
      },
      "source": [
        "Se puede especificar el orden de las columnas"
      ]
    },
    {
      "cell_type": "code",
      "metadata": {
        "id": "S5mJe2D9XDmZ"
      },
      "source": [
        "pd.DataFrame(data, columns=['año', 'provincia', 'pob'])"
      ],
      "execution_count": null,
      "outputs": []
    },
    {
      "cell_type": "markdown",
      "metadata": {
        "id": "4J4hVNX7XZ9I"
      },
      "source": [
        "Que pasará si enviamos una columna que no posee datos en el DataSet?"
      ]
    },
    {
      "cell_type": "code",
      "metadata": {
        "id": "-w4keC7FXdou"
      },
      "source": [
        "frame2 = pd.DataFrame(data, columns=['año', 'provincia', 'pob', 'deuda'],\n",
        "                      index=['uno', 'dos', 'tres', 'cuatro','cinco', 'seis'])\n",
        "frame2"
      ],
      "execution_count": null,
      "outputs": []
    },
    {
      "cell_type": "markdown",
      "metadata": {
        "id": "SW-1guanX2in"
      },
      "source": [
        "También podemos obtener información de un Dataset como una serie"
      ]
    },
    {
      "cell_type": "code",
      "metadata": {
        "id": "ptLBNnqWX-zO"
      },
      "source": [
        "frame2['provincia'] # Le pasamos como parámetro la columna que deseamos visualizar"
      ],
      "execution_count": null,
      "outputs": []
    },
    {
      "cell_type": "markdown",
      "metadata": {
        "id": "XfpDv5h4YPUe"
      },
      "source": [
        "Filas también pueden ser obtenidas por posición mediante el atributo especial **loc**"
      ]
    },
    {
      "cell_type": "code",
      "metadata": {
        "id": "4YR07u1AYa21"
      },
      "source": [
        "frame2.loc['tres'] # Como hacemos para obtener la tercera fila del dataframe?"
      ],
      "execution_count": null,
      "outputs": []
    },
    {
      "cell_type": "markdown",
      "metadata": {
        "id": "SfP-OWRWaGfI"
      },
      "source": [
        "Las columnas pueden ser modificadas por asignación. Por ejemplo, tomemos la columna vacía **Deuda**, podríamos asignar un escalar o un arreglo de valores:\n"
      ]
    },
    {
      "cell_type": "code",
      "metadata": {
        "id": "5HWLHjyKaUMr"
      },
      "source": [
        "import numpy as np\n",
        "frame2['deuda'] = np.arange(6.) # Que hace está función?\n",
        "frame2"
      ],
      "execution_count": null,
      "outputs": []
    },
    {
      "cell_type": "markdown",
      "metadata": {
        "id": "RWdz37e5vyTg"
      },
      "source": [
        "Si asignas arreglos a columnas, la longitud del mismo debe ser igual que la del DataFrame. Los labels serán reasignados exactamente al índice del DF, insertando NaN en los valores faltantes.\n"
      ]
    },
    {
      "cell_type": "code",
      "metadata": {
        "id": "aj7o8Nr8wKNF"
      },
      "source": [
        "val = pd.Series([-1.2, -1.5, -1.7], index=['dos', 'cuatro', 'cinco'])\n",
        "frame2['deuda'] = val\n",
        "frame2"
      ],
      "execution_count": null,
      "outputs": []
    },
    {
      "cell_type": "markdown",
      "metadata": {
        "id": "ZqjzYwqFwnAF"
      },
      "source": [
        "Al declarar columnas que no existen, estás se agregarán de acuerdo al ordenamiento establecido."
      ]
    },
    {
      "cell_type": "code",
      "metadata": {
        "id": "fSljFXHLwoXQ"
      },
      "source": [
        "frame2['Región Centro'] = frame2.provincia == 'Córdoba'\n",
        "frame2\n"
      ],
      "execution_count": null,
      "outputs": []
    },
    {
      "cell_type": "markdown",
      "metadata": {
        "id": "dssp3OW9xL9I"
      },
      "source": [
        "Podemos borrar columnas usando el método **del**"
      ]
    },
    {
      "cell_type": "code",
      "metadata": {
        "id": "jN1felwyxbQz"
      },
      "source": [
        "frame2.columns"
      ],
      "execution_count": null,
      "outputs": []
    },
    {
      "cell_type": "code",
      "metadata": {
        "id": "pkbrRD5yxW73"
      },
      "source": [
        "del frame2['Región Centro']"
      ],
      "execution_count": null,
      "outputs": []
    },
    {
      "cell_type": "code",
      "metadata": {
        "id": "yUNlhj0zxj8y"
      },
      "source": [
        "frame2.columns"
      ],
      "execution_count": null,
      "outputs": []
    },
    {
      "cell_type": "markdown",
      "metadata": {
        "id": "qy2OCI6ox4-6"
      },
      "source": [
        "---\n",
        "\n",
        "Otro tipo común de declarar datos es mediante diccionarios anidados\n",
        "\n",
        "\n",
        "\n"
      ]
    },
    {
      "cell_type": "code",
      "metadata": {
        "id": "9AcLo_5ZyH1x"
      },
      "source": [
        "pob = {'Rosario': {2001: 2.4, 2002: 2.9},\n",
        "       'Mendoza': {2000: 1.5, 2001: 1.7, 2002: 3.6}}\n",
        "frame3 = pd.DataFrame(pob)\n",
        "frame3"
      ],
      "execution_count": null,
      "outputs": []
    },
    {
      "cell_type": "markdown",
      "metadata": {
        "id": "Q2XZa2Tlybof"
      },
      "source": [
        "Puedes transponer el DataFrame (Intercambiar columnas y filas) con una sintaxis similar a NumPy:\n"
      ]
    },
    {
      "cell_type": "code",
      "metadata": {
        "id": "ihn6JGbYyiVN"
      },
      "source": [
        "frame3.T"
      ],
      "execution_count": null,
      "outputs": []
    },
    {
      "cell_type": "markdown",
      "metadata": {
        "id": "Ra_OstUXzEiX"
      },
      "source": [
        "## Index Objects\n",
        "\n",
        "Los objetos índice son responsables de almacenar las etiquetas de los ejes y otros metadatos. Los arreglos u otra secuencia de etiquetas que utilizas cuando construyes una serie o un DataFrame es internamente convertido a un índice:\n"
      ]
    },
    {
      "cell_type": "code",
      "metadata": {
        "id": "D7UoVz3zzX3u"
      },
      "source": [
        "obj = pd.Series(range(3), index=['a', 'b', 'c'])\n",
        "index = obj.index\n",
        "print(obj)\n",
        "print(index)\n",
        "index[1:]"
      ],
      "execution_count": null,
      "outputs": []
    },
    {
      "cell_type": "code",
      "metadata": {
        "id": "pVvjomVwzyrB"
      },
      "source": [
        "index[1] = 'd' #Que sucede si ejecutamos la siguiente línea?\n",
        "index"
      ],
      "execution_count": null,
      "outputs": []
    },
    {
      "cell_type": "code",
      "source": [
        "obj = obj.rename(index={'b': 'Nuevo_nombre'})\n",
        "obj"
      ],
      "metadata": {
        "id": "7DexF-BRohat"
      },
      "execution_count": null,
      "outputs": []
    },
    {
      "cell_type": "markdown",
      "metadata": {
        "id": "tR9M_vw90NXX"
      },
      "source": [
        "\n",
        "\n",
        "---\n",
        "\n",
        "\n",
        "## Funciones Esenciales\n",
        "\n",
        "La siguiente sección provee los fundamentos básicos para interactuar con datos contenidos en una serie o un DataFrame."
      ]
    },
    {
      "cell_type": "markdown",
      "metadata": {
        "id": "UFQSAmC10i67"
      },
      "source": [
        "### Reindexing\n",
        "\n",
        "Un importante método en Pandas es la reindexación. Esto crea un nuevo objeto que se encuentra conformado por un nuevo índice. Llamar al reindex en la serie re-arregla los datos de acuerdo al nuevo índice introduciendo NaN en aquellos valores que no se encuentran presentes.\n",
        "Por ejemplo:\n"
      ]
    },
    {
      "cell_type": "code",
      "metadata": {
        "id": "BprzO_q005B9"
      },
      "source": [
        "obj = pd.Series([4.5, 7.2, -5.3, 3.6], index=['d', 'b', 'a', 'c'])\n",
        "obj"
      ],
      "execution_count": null,
      "outputs": []
    },
    {
      "cell_type": "code",
      "metadata": {
        "id": "vcAD4_a61Sep"
      },
      "source": [
        "obj2 = obj.reindex(['a', 'b', 'c', 'd', 'e'])\n",
        "obj2"
      ],
      "execution_count": null,
      "outputs": []
    },
    {
      "cell_type": "markdown",
      "metadata": {
        "id": "lWFPpqCs1giw"
      },
      "source": [
        "Para datos ordenados como series de tiempo, puede ser deseable hacer alguna interpolación o relleno de valores al reindexar. Podemos hacerlo usando el método como **ffill**, que autocompleta los valores faltantes con el \"valor inmediato anterior\":"
      ]
    },
    {
      "cell_type": "code",
      "metadata": {
        "id": "-H5HCj2T1lPf"
      },
      "source": [
        "obj3 = pd.Series(['blue', 'purple', 'yellow'], index=[0, 2, 4])\n",
        "obj3"
      ],
      "execution_count": null,
      "outputs": []
    },
    {
      "cell_type": "code",
      "metadata": {
        "id": "-KmKJQOl1n_U"
      },
      "source": [
        "obj3.reindex(range(6), method='ffill')"
      ],
      "execution_count": null,
      "outputs": []
    },
    {
      "cell_type": "markdown",
      "metadata": {
        "id": "1kgSHaEL13WG"
      },
      "source": [
        "Con DataFrame, reindex puede alterar el índice (fila), las columnas o ambos. Cuando se pasa solo una secuencia, reindexa las filas en el resultado:"
      ]
    },
    {
      "cell_type": "code",
      "metadata": {
        "id": "b_ARql_d12Z0"
      },
      "source": [
        "import numpy as np\n",
        "frame = pd.DataFrame(np.arange(9).reshape((3, 3)),\n",
        "  index=['a', 'c', 'd'],\n",
        "  columns=['Buenos Aires', 'Córdoba', 'Rosario'])\n",
        "\n",
        "frame"
      ],
      "execution_count": null,
      "outputs": []
    },
    {
      "cell_type": "code",
      "metadata": {
        "id": "ek7cv1Bd2HTY"
      },
      "source": [
        "frame2 = frame.reindex(['a', 'b', 'c', 'd'])\n",
        "frame2"
      ],
      "execution_count": null,
      "outputs": []
    },
    {
      "cell_type": "markdown",
      "metadata": {
        "id": "N7PAv1RF3pID"
      },
      "source": [
        "### Eliminar entradas de un eje\n",
        "Eliminar una o más entradas de un eje es fácil si ya tiene una matriz de índice o una lista sin esas entradas. Como eso puede requerir un poco de **munging** y establecer la lógica, el método **drop** devolverá un nuevo objeto con el valor o valores indicados eliminados de un eje:"
      ]
    },
    {
      "cell_type": "code",
      "metadata": {
        "id": "4Nq2ILP236e8"
      },
      "source": [
        "obj = pd.Series(np.arange(5.), index=['a', 'b', 'c', 'd', 'e'])\n",
        "obj"
      ],
      "execution_count": null,
      "outputs": []
    },
    {
      "cell_type": "code",
      "metadata": {
        "id": "kUidhg3H395C"
      },
      "source": [
        "new_obj = obj.drop('c')\n",
        "new_obj"
      ],
      "execution_count": null,
      "outputs": []
    },
    {
      "cell_type": "markdown",
      "metadata": {
        "id": "NulQPXic4Kw5"
      },
      "source": [
        "Con DataFrame, los valores de índice se pueden eliminar de cualquier eje. Para ilustrar esto, primero creemos un DataFrame de ejemplo:"
      ]
    },
    {
      "cell_type": "code",
      "metadata": {
        "id": "lOOd3pyu4OD2"
      },
      "source": [
        "data = pd.DataFrame(np.arange(16).reshape((4, 4)),\n",
        "      index=['Deadpool', 'Spidy', 'Wolverine', 'Dopinder'],\n",
        "      columns=['uno', 'dos', 'tres', 'cuatro'])\n",
        "data"
      ],
      "execution_count": null,
      "outputs": []
    },
    {
      "cell_type": "markdown",
      "source": [
        "En este caso eliminamos dos filas, pasando como parámetro una lista de etiquetas de índice. Es similar al ejemplo anterior pero con más de un índice al mismo tiempo."
      ],
      "metadata": {
        "id": "vNJS-uXx5yNW"
      }
    },
    {
      "cell_type": "code",
      "metadata": {
        "id": "lvKNE9ne4p-M"
      },
      "source": [
        "data.drop(['Spidy', 'Dopinder'])"
      ],
      "execution_count": null,
      "outputs": []
    },
    {
      "cell_type": "markdown",
      "source": [
        "Si quisieramos eliminar una columna pasandole el nombre de la misma como parámetro, debemos especificar que se trata del axis=1 (eje de las columnas)."
      ],
      "metadata": {
        "id": "umG-2Ihz5wqk"
      }
    },
    {
      "cell_type": "code",
      "metadata": {
        "id": "XXUj_uxap5BX"
      },
      "source": [
        "data.drop(['uno'], axis=1)"
      ],
      "execution_count": null,
      "outputs": []
    },
    {
      "cell_type": "markdown",
      "metadata": {
        "id": "K0kS9vX9NX-6"
      },
      "source": [
        "### Indexación, selección y filtrado\n",
        "La indexación en Series (obj [...]) funciona de manera análoga a la indexación de arreglos de NumPy, excepto que puede usar los valores de índice de la serie en lugar de solo enteros. Aquí hay algunos ejemplos de esto:"
      ]
    },
    {
      "cell_type": "code",
      "metadata": {
        "id": "bSkhat5yNi7K"
      },
      "source": [
        "obj = pd.Series(np.arange(4.), index=['a', 'b', 'c', 'd'])\n",
        "obj"
      ],
      "execution_count": null,
      "outputs": []
    },
    {
      "cell_type": "code",
      "metadata": {
        "id": "rV576Vp2NnCR"
      },
      "source": [
        "obj['b']"
      ],
      "execution_count": null,
      "outputs": []
    },
    {
      "cell_type": "code",
      "metadata": {
        "id": "fQpMldKXNonD"
      },
      "source": [
        "obj[2:]"
      ],
      "execution_count": null,
      "outputs": []
    },
    {
      "cell_type": "markdown",
      "metadata": {
        "id": "5eZdYIi3OYop"
      },
      "source": [
        "El slicing con etiquetas se comporta de manera diferente al equivalente en Python en que el punto final es inclusivo"
      ]
    },
    {
      "cell_type": "code",
      "metadata": {
        "id": "hfQaMQmxOkI-"
      },
      "source": [
        "obj['b':'d']"
      ],
      "execution_count": null,
      "outputs": []
    },
    {
      "cell_type": "code",
      "source": [
        "obj[1:3]"
      ],
      "metadata": {
        "id": "eviXmM6Z6X6J"
      },
      "execution_count": null,
      "outputs": []
    },
    {
      "cell_type": "markdown",
      "metadata": {
        "id": "rgeVibG1PEZ2"
      },
      "source": [
        "### Selección con Loc e ILoc\n",
        "\n",
        "Para la indexación de etiquetas de DataFrame en las filas, se presentan los operadores de indexación especiales **loc** e **iloc**. Estos operadores permiten seleccionar un subconjunto de las filas y columnas de un DataFrame con notación tipo NumPy usando etiquetas de eje (loc) o enteros (iloc)."
      ]
    },
    {
      "cell_type": "code",
      "metadata": {
        "id": "Reo-_NagPRdX"
      },
      "source": [
        "data = pd.DataFrame(np.arange(16).reshape((4, 4)),\n",
        "      index=['Deadpool', 'Spidy', 'Wolverine', 'Dopinder'],\n",
        "      columns=['uno', 'dos', 'tres', 'cuatro'])\n",
        "\n",
        "data"
      ],
      "execution_count": null,
      "outputs": []
    },
    {
      "cell_type": "code",
      "metadata": {
        "id": "F5AkgE51Lp9N"
      },
      "source": [
        "data.loc['Spidy', ['uno', 'dos']] # [Filas, Columnas]"
      ],
      "execution_count": null,
      "outputs": []
    },
    {
      "cell_type": "markdown",
      "metadata": {
        "id": "1hZzKlYBPzfo"
      },
      "source": [
        "Pdemos realizar algunas selecciones similares con enteros usando iloc:"
      ]
    },
    {
      "cell_type": "code",
      "metadata": {
        "id": "zVIZDHj9P3aB"
      },
      "source": [
        "data.iloc[2, [3, 0, 1]]"
      ],
      "execution_count": null,
      "outputs": []
    },
    {
      "cell_type": "markdown",
      "metadata": {
        "id": "S1-aECmuQC6u"
      },
      "source": [
        "### Índices enteros\n",
        "Trabajar con objetos Pandas indexados por enteros es algo que a menudo confunde a nuevos usuarios debido a algunas diferencias con la semántica de indexación en estructuras de datos Python incorporadas como listas y tuplas. Por ejemplo, es posible que el siguiente código genere un error:"
      ]
    },
    {
      "cell_type": "code",
      "metadata": {
        "id": "TRfHoAKtP_TP"
      },
      "source": [
        "ser = pd.Series(np.arange(3.))\n",
        "ser\n",
        "ser[-1]"
      ],
      "execution_count": null,
      "outputs": []
    },
    {
      "cell_type": "markdown",
      "metadata": {
        "id": "byEE6t50Qvzh"
      },
      "source": [
        "Si usamos non-Integer Index, no hay problemas de ambigüedad"
      ]
    },
    {
      "cell_type": "code",
      "metadata": {
        "id": "3eBDD37kQopU"
      },
      "source": [
        "ser2 = pd.Series(np.arange(3.), index=['a', 'b', 'c'])\n",
        "ser2[-1]"
      ],
      "execution_count": null,
      "outputs": []
    },
    {
      "cell_type": "code",
      "metadata": {
        "id": "6Mtm_kNmMKnz"
      },
      "source": [
        "ser2['c']"
      ],
      "execution_count": null,
      "outputs": []
    },
    {
      "cell_type": "markdown",
      "metadata": {
        "id": "vF1e3vvURF1y"
      },
      "source": [
        "Para un manejo más preciso, use **loc** (para etiquetas) o **iloc** (para enteros)."
      ]
    },
    {
      "cell_type": "markdown",
      "metadata": {
        "id": "6F9oujCWRQ6M"
      },
      "source": [
        "### Aritmética y alineación de datos\n",
        "Una característica importante de Pandas para algunas aplicaciones es el comportamiento de la aritmética entre objetos con diferentes índices. Cuando agrega objetos juntos, si alguno de los pares de índice no es el mismo, el índice respectivo en el resultado será la unión de los pares de índice.\n",
        "La alineación interna de datos introduce valores faltantes en las ubicaciones de las etiquetas que no se superponen. Los valores faltantes se propagarán en cálculos aritméticos adicionales.\n",
        "Veamos un ejemplo:"
      ]
    },
    {
      "cell_type": "code",
      "metadata": {
        "id": "eq9uTSo0RdS3"
      },
      "source": [
        "s1 = pd.Series([7.3, -2.5, 3.4, 1.5], index=['a', 'c', 'd', 'e'])\n",
        "s2 = pd.Series([-2.1, 3.6, -1.5, 4, 3.1], index=['a', 'c', 'e', 'f', 'g'])"
      ],
      "execution_count": null,
      "outputs": []
    },
    {
      "cell_type": "code",
      "metadata": {
        "id": "UA3LUN94Ric8"
      },
      "source": [
        "print (s1)\n",
        "print ('\\n')\n",
        "print (s2)"
      ],
      "execution_count": null,
      "outputs": []
    },
    {
      "cell_type": "code",
      "metadata": {
        "id": "FTPnOkxQRw-a"
      },
      "source": [
        "s1 + s2"
      ],
      "execution_count": null,
      "outputs": []
    },
    {
      "cell_type": "markdown",
      "metadata": {
        "id": "U_nhIgTzSSG1"
      },
      "source": [
        "En el caso de DataFrame, la alineación se realiza tanto en las filas como en las columnas:"
      ]
    },
    {
      "cell_type": "code",
      "metadata": {
        "id": "q1u1j3eZSUNs"
      },
      "source": [
        "df1 = pd.DataFrame(np.arange(9.).reshape((3, 3)), columns=list('bcd'),\n",
        "          index=['Buenos Aires', 'Córdoba', 'Rosario'])\n",
        "\n",
        "df2 = pd.DataFrame(np.arange(12.).reshape((4, 3)), columns=list('bde'),\n",
        "          index=['Buenos Aires', 'Córdoba', 'Rosario', 'Mendoza'])"
      ],
      "execution_count": null,
      "outputs": []
    },
    {
      "cell_type": "code",
      "metadata": {
        "id": "ms9rmBYWScDK"
      },
      "source": [
        "print (df1)\n",
        "print ('\\n')\n",
        "print (df2)"
      ],
      "execution_count": null,
      "outputs": []
    },
    {
      "cell_type": "code",
      "metadata": {
        "id": "znjoS7upStit"
      },
      "source": [
        "df1 + df2"
      ],
      "execution_count": null,
      "outputs": []
    },
    {
      "cell_type": "markdown",
      "metadata": {
        "id": "dMEm_UPhS9UI"
      },
      "source": [
        "## Métodos Aritméticos con Valores de llenado\n",
        "En operaciones aritméticas entre objetos indexados de manera diferente, es posible que desees rellenar con un valor especial, como 0, para evitar valores nulos:"
      ]
    },
    {
      "cell_type": "code",
      "metadata": {
        "id": "SHglb1MMTLGV"
      },
      "source": [
        "df1 = pd.DataFrame(np.arange(12.).reshape((3, 4)),\n",
        "          columns=list('abcd'))\n",
        "df2 = pd.DataFrame(np.arange(20.).reshape((4, 5)),\n",
        "          columns=list('abcde'))"
      ],
      "execution_count": null,
      "outputs": []
    },
    {
      "cell_type": "code",
      "metadata": {
        "id": "i41cD4s9rNMs"
      },
      "source": [
        "print(df1)\n",
        "print ('\\n')\n",
        "print(df2)"
      ],
      "execution_count": null,
      "outputs": []
    },
    {
      "cell_type": "code",
      "metadata": {
        "id": "wb1dlZknTS2h"
      },
      "source": [
        "df2.loc[1, 'b'] = np.nan"
      ],
      "execution_count": null,
      "outputs": []
    },
    {
      "cell_type": "code",
      "metadata": {
        "id": "6EGD7BuzTVQs"
      },
      "source": [
        "print(df1)\n",
        "print('\\n')\n",
        "print(df2)"
      ],
      "execution_count": null,
      "outputs": []
    },
    {
      "cell_type": "code",
      "metadata": {
        "id": "Q2MrjQanTgC-"
      },
      "source": [
        "df1 + df2"
      ],
      "execution_count": null,
      "outputs": []
    },
    {
      "cell_type": "markdown",
      "metadata": {
        "id": "qedxf05jTpCV"
      },
      "source": [
        "Usando el método **add** en df1, paso df2 y un argumento para fill_value:"
      ]
    },
    {
      "cell_type": "code",
      "metadata": {
        "id": "43FEgyXaTlJN"
      },
      "source": [
        "df1.add(df2, fill_value=0)"
      ],
      "execution_count": null,
      "outputs": []
    },
    {
      "cell_type": "markdown",
      "metadata": {
        "id": "Vp2uNDZcT93w"
      },
      "source": [
        "### Aplicación de funciones y mapeo\n",
        "\n",
        "Las **NumPy ufuncs** (métodos de matriz de elementos) también funcionan con objetos Pandas:"
      ]
    },
    {
      "cell_type": "code",
      "metadata": {
        "id": "GxZ1hFG4UDPB"
      },
      "source": [
        "frame = pd.DataFrame(np.random.randn(4, 3), columns=list('bde'),\n",
        "                                  index=['Buenos Aires', 'Córdoba', 'Rosario',\n",
        "                                      'Mendoza'])\n",
        "frame"
      ],
      "execution_count": null,
      "outputs": []
    },
    {
      "cell_type": "code",
      "metadata": {
        "id": "RVGS7POdUO2D"
      },
      "source": [
        "np.abs(frame)"
      ],
      "execution_count": null,
      "outputs": []
    },
    {
      "cell_type": "markdown",
      "metadata": {
        "id": "2Gy_WdsYUlmM"
      },
      "source": [
        "Otra operación frecuente es aplicar una función en matrices unidimensionales a cada columna o fila. El método **apply** de DataFrame hace exactamente esto:"
      ]
    },
    {
      "cell_type": "code",
      "metadata": {
        "id": "E4579h1vUthL"
      },
      "source": [
        "def f(x):\n",
        "        return pd.Series([x.min(), x.max()], index=['min', 'max'])"
      ],
      "execution_count": null,
      "outputs": []
    },
    {
      "cell_type": "code",
      "metadata": {
        "id": "NfhF4N3TUyXf"
      },
      "source": [
        "frame.apply(f)"
      ],
      "execution_count": null,
      "outputs": []
    },
    {
      "cell_type": "markdown",
      "metadata": {
        "id": "zG1wRBBbVCdN"
      },
      "source": [
        "### Ordenamiento y clasificación\n",
        "Ordenar un conjunto de datos por algún criterio es otra operación incorporada importante. Para ordenar lexicográficamente por índice de fila o columna, use el método **sort_index**, que devuelve un nuevo objeto ordenado:"
      ]
    },
    {
      "cell_type": "code",
      "metadata": {
        "id": "DlabyyLWVKEB"
      },
      "source": [
        "obj = pd.Series(range(4), index=['d', 'a', 'b', 'c'])\n",
        "obj.sort_index()"
      ],
      "execution_count": null,
      "outputs": []
    },
    {
      "cell_type": "code",
      "metadata": {
        "id": "ykh6PtuBVftz"
      },
      "source": [
        "frame = pd.DataFrame(np.arange(8).reshape((2, 4)),\n",
        "                index=['uno', 'tres'],\n",
        "                columns=['d', 'a', 'b', 'c'])\n",
        "frame.sort_index()"
      ],
      "execution_count": null,
      "outputs": []
    },
    {
      "cell_type": "markdown",
      "metadata": {
        "id": "5ogdaBdZWW4y"
      },
      "source": [
        "Al ordenar un DataFrame, puede usar los datos en una o más columnas como las claves de clasificación. Para hacerlo, pase uno o más nombres de columna a la opción by de **sort_values**:"
      ]
    },
    {
      "cell_type": "code",
      "metadata": {
        "id": "NCUgJHA8WDkt"
      },
      "source": [
        "frame = pd.DataFrame({'b': [4, 7, -3, 2], 'a': [0, 1, 0, 1]})\n",
        "frame"
      ],
      "execution_count": null,
      "outputs": []
    },
    {
      "cell_type": "code",
      "metadata": {
        "id": "_Be-uHSSWL6m"
      },
      "source": [
        "frame.sort_values(by='b')"
      ],
      "execution_count": null,
      "outputs": []
    },
    {
      "cell_type": "code",
      "metadata": {
        "id": "wNu_JyJJWawn"
      },
      "source": [
        "frame.sort_values(by=['a', 'b']) # Ordena por multiples columnas"
      ],
      "execution_count": null,
      "outputs": []
    },
    {
      "cell_type": "markdown",
      "metadata": {
        "id": "jpJ79mmfWtou"
      },
      "source": [
        "La clasificación asigna rangos desde uno hasta el número de puntos de datos válidos en una matriz. Los métodos de clasificación para Series y DataFrame son el lugar para buscar; Por defecto, el rango rompe los lazos asignando a cada grupo el rango medio:"
      ]
    },
    {
      "cell_type": "code",
      "metadata": {
        "id": "WM75hG-uWxio"
      },
      "source": [
        "frame = pd.DataFrame({'b': [4.3, 7, -3, 2],\n",
        "                      'a': [0, 1, 0, 1],\n",
        "                      'c': [-2, 5, 8, -2.5]})\n",
        "\n",
        "frame"
      ],
      "execution_count": null,
      "outputs": []
    },
    {
      "cell_type": "code",
      "metadata": {
        "id": "Mb4jG2o7ZavO"
      },
      "source": [
        "frame.rank(axis='columns',ascending=False) # De mayor a menor"
      ],
      "execution_count": null,
      "outputs": []
    },
    {
      "cell_type": "code",
      "metadata": {
        "id": "MbNbQwEvZpqy"
      },
      "source": [
        "frame.rank(axis='rows') # De menor a mayor"
      ],
      "execution_count": null,
      "outputs": []
    },
    {
      "cell_type": "markdown",
      "metadata": {
        "id": "epZ41KN4aGBv"
      },
      "source": [
        "## Resumiendo y calculando estadísticas descriptivas\n",
        "Los objetos de Pandas están equipados con un conjunto de métodos matemáticos y estadísticos comunes.\n",
        "La mayoría de estos pertenecen a la categoría de reducciones o estadísticas resumidas, métodos que extraen un solo valor de una Serie o una Serie de valores de las filas o columnas de un Marco de datos. En comparación con los métodos similares que se encuentran en los arreglos NumPy, tienen un manejo incorporado para los datos faltantes. Consideremos un pequeño DataFrame:"
      ]
    },
    {
      "cell_type": "code",
      "metadata": {
        "id": "l2_mcdSFaQZb"
      },
      "source": [
        "df = pd.DataFrame([[1.4, np.nan], [7.1, -4.5],\n",
        "                    [np.nan, np.nan], [0.75, -1.3]],\n",
        "                    index=['a', 'b', 'c', 'd'],\n",
        "                    columns=['one', 'two'])\n",
        "df"
      ],
      "execution_count": null,
      "outputs": []
    },
    {
      "cell_type": "code",
      "source": [
        "df.describe()"
      ],
      "metadata": {
        "id": "IYFylPMfGOre"
      },
      "execution_count": null,
      "outputs": []
    },
    {
      "cell_type": "code",
      "metadata": {
        "id": "BRVXx8f3akVx"
      },
      "source": [
        "df.sum()"
      ],
      "execution_count": null,
      "outputs": []
    },
    {
      "cell_type": "code",
      "metadata": {
        "id": "_B_D977obE2k"
      },
      "source": [
        "df.sum(axis='columns')"
      ],
      "execution_count": null,
      "outputs": []
    },
    {
      "cell_type": "markdown",
      "metadata": {
        "id": "VnS0BgULfeCf"
      },
      "source": [
        "## Carga de datos, almacenamiento y formatos de archivo\n",
        "\n",
        "La entrada y salida generalmente se clasifican en algunas categorías principales: leer archivos de texto y otros formatos en disco más eficientes, cargar datos de bases de datos e interactuar con fuentes de red como API web."
      ]
    },
    {
      "cell_type": "code",
      "metadata": {
        "id": "JICj5qVTfshJ"
      },
      "source": [
        "df = pd.read_csv('./sample_data/california_housing_train.csv')\n",
        "df.head()"
      ],
      "execution_count": null,
      "outputs": []
    },
    {
      "cell_type": "markdown",
      "metadata": {
        "id": "1uIddfC_gPFY"
      },
      "source": [
        "El manejo de valores perdidos es una parte importante y frecuentemente matizada del proceso de análisis de archivos. Los datos que faltan generalmente no están presentes o están marcados por algún valor de referencia. Por defecto, los pandas usan un conjunto de centinelas comunes, como NA y NULL:"
      ]
    },
    {
      "cell_type": "code",
      "metadata": {
        "id": "MY4cYA31gWJL"
      },
      "source": [
        "pd.isnull(df)"
      ],
      "execution_count": null,
      "outputs": []
    },
    {
      "cell_type": "markdown",
      "metadata": {
        "id": "0ClR_nvwgoWD"
      },
      "source": [
        "Se pueden especificar diferentes referencia de NA para cada columna en un diccionario:"
      ]
    },
    {
      "cell_type": "code",
      "metadata": {
        "id": "0jvMMGxUguZv"
      },
      "source": [
        "referencia_nulos = {'message': ['foo', 'NA'], 'something': ['two']}\n",
        "df = pd.read_csv('./sample_data/california_housing_train.csv', na_values=referencia_nulos)\n",
        "df"
      ],
      "execution_count": null,
      "outputs": []
    },
    {
      "cell_type": "markdown",
      "metadata": {
        "id": "K73jnvDWe5Qo"
      },
      "source": [
        "## Ejemplo utilizando pandas_datareader\n",
        "\n",
        "En el siguiente ejemplo usaremos el módulo de pandas_datareader para descargar datos de algunos índices accionarios.\n",
        "\n",
        "Vamos a consultar la página de Yahoo! Finanzas: https://finance.yahoo.com/\n"
      ]
    },
    {
      "cell_type": "code",
      "source": [
        "!pip install --upgrade pandas\n",
        "!pip install --upgrade pandas-datareader"
      ],
      "metadata": {
        "id": "XW1goPSDljFR"
      },
      "execution_count": null,
      "outputs": []
    },
    {
      "cell_type": "code",
      "metadata": {
        "id": "_LnnMkt0dzyM"
      },
      "source": [
        "import pandas_datareader.data as web\n",
        "all_data = {}\n",
        "for ticker in ['IBM', 'MSFT', 'GOOG']:\n",
        "    try:\n",
        "        all_data[ticker] = web.get_data_yahoo(ticker, '1/1/2003', '1/1/2013')\n",
        "        price = DataFrame({tic: data['Adj Close'] for tic, data in all_data.iteritems()})\n",
        "        volume = DataFrame({tic: data['Volume'] for tic, data in all_data.iteritems()})\n",
        "    except:\n",
        "        print(f\"Can't find {ticker}\")"
      ],
      "execution_count": null,
      "outputs": []
    },
    {
      "cell_type": "markdown",
      "source": [
        "Vemos que la librería pandas_datareader cambió el método \"get_data_yahoo\" que estabamos intentando ejecutar.\n",
        "\n",
        "Fix: 12/05/2023 -> Usar YahooFinance en lugar de pandas_datareader"
      ],
      "metadata": {
        "id": "xGSfWgGRWaJh"
      }
    },
    {
      "cell_type": "markdown",
      "source": [
        "# Ejemplo utilizando YahooFinance"
      ],
      "metadata": {
        "id": "MX-RYhKAYZXy"
      }
    },
    {
      "cell_type": "code",
      "source": [
        "import yfinance as yf\n",
        "companies = ['IBM', 'MSFT', 'GOOG']\n",
        "\n",
        "all_data = {}\n",
        "for company in companies:\n",
        "  all_data[company] = yf.download(company, start='2020-06-15' , end='2022-12-31')\n"
      ],
      "metadata": {
        "id": "I6JeBVA8XHN6"
      },
      "execution_count": null,
      "outputs": []
    },
    {
      "cell_type": "code",
      "source": [
        "all_data"
      ],
      "metadata": {
        "id": "qC-qrAJeYCu3"
      },
      "execution_count": null,
      "outputs": []
    },
    {
      "cell_type": "markdown",
      "source": [
        "Generemos 3 dataframes, uno para los datos de las acciones de cada empresa:"
      ],
      "metadata": {
        "id": "ItT6pYawYmMH"
      }
    },
    {
      "cell_type": "code",
      "source": [
        "data_ibm = all_data['IBM']\n",
        "data_msft = all_data['MSFT']\n",
        "data_goog = all_data['GOOG']"
      ],
      "metadata": {
        "id": "Y3HPr08MYIRe"
      },
      "execution_count": null,
      "outputs": []
    },
    {
      "cell_type": "code",
      "source": [
        "# Veamos como quedó el DF con los datos de IBM y sigamos trabajando con este dataset\n",
        "data_msft"
      ],
      "metadata": {
        "id": "UHgLp10dYRnc"
      },
      "execution_count": null,
      "outputs": []
    },
    {
      "cell_type": "markdown",
      "source": [
        "Algunas definiciones (fuente: https://www.investopedia.com/terms/a/)\n",
        "\n",
        "- **Closing price**: The closing price is the raw price or cash value of the last transacted price in a security before the market officially closes for normal trading. It is often the reference point used by investors to compare a stock's performance since the previous day—and closing prices are frequently used to construct line graphs depicting historical price changes over time.\n",
        "\n",
        "- **Adjusted Closing Price**: Stock values are stated in terms of the closing price and the adjusted closing price. The closing price is the raw price, which is just the cash value of the last transacted price before the market closes. The adjusted closing price factors in anything that might affect the stock price after the market closes."
      ],
      "metadata": {
        "id": "G4KPwR8SZKfH"
      }
    },
    {
      "cell_type": "markdown",
      "source": [
        "Entonces elijamos alguno de estos para continuar nuestro análisis: Por ejemplo el Closing price y vamos a aplicar alguna transformación a los datos.\n",
        "\n",
        "- Cambio porcentual, ¿Qué les parece que hará?"
      ],
      "metadata": {
        "id": "EII6mPZvZnCa"
      }
    },
    {
      "cell_type": "code",
      "source": [
        "closing_price_ibm = data_ibm['Close']\n",
        "change_ibm = closing_price_ibm.pct_change() # Aplicamos la funcion cambio porcentual al precio de cierre de las acciones\n",
        "change_ibm # Veamos el resultado"
      ],
      "metadata": {
        "id": "Gun2hdiJURoa"
      },
      "execution_count": null,
      "outputs": []
    },
    {
      "cell_type": "markdown",
      "source": [
        "¿Y si quisiera saber cual fue el máximo cambio porcentual en el periodo?"
      ],
      "metadata": {
        "id": "LJKZEhjPaXxE"
      }
    },
    {
      "cell_type": "code",
      "metadata": {
        "id": "YsuI9choud5V"
      },
      "source": [
        "change_ibm.max()"
      ],
      "execution_count": null,
      "outputs": []
    },
    {
      "cell_type": "markdown",
      "source": [
        "¿Y en qué día se dio este cambio máximo? Puedo establecer una condición booleana:"
      ],
      "metadata": {
        "id": "0sOjva7ParBA"
      }
    },
    {
      "cell_type": "code",
      "source": [
        "change_ibm[change_ibm == change_ibm.max()]"
      ],
      "metadata": {
        "id": "wWbVKAlXagCa"
      },
      "execution_count": null,
      "outputs": []
    }
  ]
}